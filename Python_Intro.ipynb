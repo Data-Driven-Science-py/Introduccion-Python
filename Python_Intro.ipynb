{
  "cells": [
    {
      "cell_type": "markdown",
      "metadata": {
        "id": "5WNfFvxyXtLu"
      },
      "source": [
        "# Data-Driven Science - DDS"
      ]
    },
    {
      "cell_type": "markdown",
      "metadata": {
        "id": "GM0GFF-oX7kx"
      },
      "source": [
        "## Objetivos\n",
        "- Manejar **Python**.\n",
        "\n",
        "- Entender y utilizar todas las herramientas de **Python** para visualización, manipulación y modelado de datos.\n",
        "\n",
        "  - Numpy\n",
        "  - Pandas (cudf, polar)\n",
        "  - Matplotlib (seaborn, plotly)\n",
        "  - Sci-Kit Learn (tensorflow, pytorch)\n",
        "\n",
        "- Machine Learning.\n",
        "\n",
        "- Poder incluir fundamentos de los sistemas que estudiamos dentro de nuestros análisis de tal manera que sea datos guiados por ciencia y no viceversa.\n"
      ]
    },
    {
      "cell_type": "markdown",
      "metadata": {
        "id": "MQEWcS-MZkYb"
      },
      "source": [
        "# Python"
      ]
    },
    {
      "cell_type": "markdown",
      "metadata": {
        "id": "kC1yi4Y5a1-b"
      },
      "source": [
        "## Variables"
      ]
    },
    {
      "cell_type": "code",
      "execution_count": 15,
      "metadata": {
        "id": "NpaWS9R3Xscy"
      },
      "outputs": [],
      "source": [
        "string: str = 'hola'\n",
        "entero: int = 1\n",
        "coma: float = 1.\n",
        "boolean: bool = True"
      ]
    },
    {
      "cell_type": "markdown",
      "metadata": {},
      "source": [
        "## Relacionales\n",
        "funciones -> bool\n",
        "- == : igualdad\n",
        "- != : desigualdad\n",
        "- '>' : mayor que\n",
        "- < : menor que\n",
        "- '>=': mayor o igual\n",
        "- <=: menor o igual"
      ]
    },
    {
      "cell_type": "code",
      "execution_count": 24,
      "metadata": {},
      "outputs": [
        {
          "data": {
            "text/plain": [
              "False"
            ]
          },
          "execution_count": 24,
          "metadata": {},
          "output_type": "execute_result"
        }
      ],
      "source": [
        "2>=3"
      ]
    },
    {
      "cell_type": "code",
      "execution_count": 23,
      "metadata": {},
      "outputs": [
        {
          "data": {
            "text/plain": [
              "True"
            ]
          },
          "execution_count": 23,
          "metadata": {},
          "output_type": "execute_result"
        }
      ],
      "source": [
        "'hola'=='hola'"
      ]
    },
    {
      "cell_type": "markdown",
      "metadata": {
        "id": "pATSbodZZ2uf"
      },
      "source": [
        "## Estructuras de datos\n",
        "Las estructuras de datos sirven para guardar cualquier tipo de información de formas muy interesantes."
      ]
    },
    {
      "cell_type": "code",
      "execution_count": 55,
      "metadata": {
        "id": "KNdhrMMiZ1cS"
      },
      "outputs": [
        {
          "ename": "TypeError",
          "evalue": "unhashable type: 'list'",
          "output_type": "error",
          "traceback": [
            "\u001b[0;31m---------------------------------------------------------------------------\u001b[0m",
            "\u001b[0;31mTypeError\u001b[0m                                 Traceback (most recent call last)",
            "Cell \u001b[0;32mIn[55], line 2\u001b[0m\n\u001b[1;32m      1\u001b[0m lista: \u001b[38;5;28mlist\u001b[39m \u001b[38;5;241m=\u001b[39m [\u001b[38;5;241m1\u001b[39m,\u001b[38;5;241m2\u001b[39m,\u001b[38;5;241m3\u001b[39m] \u001b[38;5;66;03m#iterables mutable\u001b[39;00m\n\u001b[0;32m----> 2\u001b[0m diccionario: \u001b[38;5;28mdict\u001b[39m \u001b[38;5;241m=\u001b[39m {\u001b[38;5;124m'\u001b[39m\u001b[38;5;124mMauri\u001b[39m\u001b[38;5;124m'\u001b[39m: \u001b[38;5;241m1\u001b[39m, \u001b[38;5;241m23\u001b[39m: \u001b[38;5;124m'\u001b[39m\u001b[38;5;124m32\u001b[39m\u001b[38;5;124m'\u001b[39m, [\u001b[38;5;124m'\u001b[39m\u001b[38;5;124mCualquiera\u001b[39m\u001b[38;5;124m'\u001b[39m, \u001b[38;5;124m'\u001b[39m\u001b[38;5;124mhola\u001b[39m\u001b[38;5;124m'\u001b[39m]: \u001b[38;5;241m13.\u001b[39m, \u001b[38;5;124m'\u001b[39m\u001b[38;5;124mnum\u001b[39m\u001b[38;5;124m'\u001b[39m: [\u001b[38;5;241m1\u001b[39m, \u001b[38;5;241m2\u001b[39m, \u001b[38;5;241m3\u001b[39m, \u001b[38;5;241m4\u001b[39m]} \u001b[38;5;66;03m#iterable mutable\u001b[39;00m\n\u001b[1;32m      3\u001b[0m conjunto: \u001b[38;5;28mset\u001b[39m \u001b[38;5;241m=\u001b[39m {\u001b[38;5;241m1\u001b[39m, \u001b[38;5;241m2\u001b[39m, \u001b[38;5;241m3\u001b[39m} \u001b[38;5;66;03m#iterable mutable\u001b[39;00m\n\u001b[1;32m      4\u001b[0m tupla: \u001b[38;5;28mtuple\u001b[39m \u001b[38;5;241m=\u001b[39m (\u001b[38;5;241m1\u001b[39m,\u001b[38;5;241m2\u001b[39m,\u001b[38;5;241m3\u001b[39m) \u001b[38;5;66;03m#iterable #inmutable\u001b[39;00m\n",
            "\u001b[0;31mTypeError\u001b[0m: unhashable type: 'list'"
          ]
        }
      ],
      "source": [
        "lista: list = [1,2,3] #iterables mutable\n",
        "diccionario: dict = {'Mauri': 1, 23: '32', 'hola': 13., 'num': [1, 2, 3, 4]} # mutable\n",
        "conjunto: set = {1, 2, 3} #iterable mutable\n",
        "tupla: tuple = (1,2,3) #iterable #inmutable"
      ]
    },
    {
      "cell_type": "markdown",
      "metadata": {
        "id": "UVPEVUDaa89Y"
      },
      "source": [
        "## Bucles\n",
        "Los bucles son sentencias que corren el mismo código dadas ciertas condiciones, hay dos tipos de bucles:\n",
        "- Bucle for\n",
        "- Bucle while"
      ]
    },
    {
      "cell_type": "markdown",
      "metadata": {
        "id": "iWJvSTCFbVgE"
      },
      "source": [
        "## Bucle for\n",
        "\n",
        "Lo que hace el bucle for en el siguiente codigo es **asignarle a i** el cada uno de los valores de la lista (**iterable**)."
      ]
    },
    {
      "cell_type": "code",
      "execution_count": 56,
      "metadata": {
        "colab": {
          "base_uri": "https://localhost:8080/"
        },
        "id": "bbJgwmKAbImS",
        "outputId": "c25b677b-182e-45d9-9843-a1723a4ea4d8"
      },
      "outputs": [
        {
          "name": "stdout",
          "output_type": "stream",
          "text": [
            "0\n",
            "1\n",
            "2\n",
            "3\n",
            "4\n"
          ]
        }
      ],
      "source": [
        "for i in [0,1,2,3,4]:\n",
        "  print(i)"
      ]
    },
    {
      "cell_type": "code",
      "execution_count": 61,
      "metadata": {},
      "outputs": [
        {
          "name": "stdout",
          "output_type": "stream",
          "text": [
            "[1, 2, 3]\n"
          ]
        }
      ],
      "source": [
        "for a in [[1,2,3], 6, 'hola'][:1]:\n",
        "    print(a)\n",
        "    "
      ]
    },
    {
      "cell_type": "code",
      "execution_count": 73,
      "metadata": {},
      "outputs": [
        {
          "name": "stdout",
          "output_type": "stream",
          "text": [
            "Mauri 1\n",
            "23 32\n",
            "Cualquiera 13.0\n",
            "num [1, 2, 3, 4]\n"
          ]
        }
      ],
      "source": [
        "for keys, values in diccionario.items():\n",
        "    print(keys, values)"
      ]
    },
    {
      "cell_type": "code",
      "execution_count": 66,
      "metadata": {},
      "outputs": [
        {
          "data": {
            "text/plain": [
              "dict_items([('Mauri', 1), (23, '32'), ('Cualquiera', 13.0), ('num', [1, 2, 3, 4])])"
            ]
          },
          "execution_count": 66,
          "metadata": {},
          "output_type": "execute_result"
        }
      ],
      "source": [
        "[('Mauri', 1), (23, '32'), ('Cualquiera', 13.0), ('num', [1, 2, 3, 4])]"
      ]
    },
    {
      "cell_type": "markdown",
      "metadata": {
        "id": "aJwz4oGibzX5"
      },
      "source": [
        "## Bucle while\n",
        "Lo que hace este bucle es evaluar una condición dada luego de su sentencia, y mientras esta sea verdadera, seguirá ejecutando el código de adentro."
      ]
    },
    {
      "cell_type": "code",
      "execution_count": null,
      "metadata": {
        "colab": {
          "base_uri": "https://localhost:8080/"
        },
        "id": "ov2fVF7RcAW6",
        "outputId": "6edd92b9-390b-410f-ff0c-6ee5579886f9"
      },
      "outputs": [
        {
          "name": "stdout",
          "output_type": "stream",
          "text": [
            "1\n",
            "2\n",
            "3\n",
            "4\n",
            "5\n",
            "6\n",
            "7\n",
            "8\n",
            "9\n",
            "10\n"
          ]
        }
      ],
      "source": [
        "i = 0\n",
        "while i<10:\n",
        "  i = i + 1\n",
        "  print(i)\n",
        "  "
      ]
    },
    {
      "cell_type": "markdown",
      "metadata": {
        "id": "YEFdHNVUrAbL"
      },
      "source": [
        "## Condicionales\n",
        "\n",
        "if\n",
        "elif\n",
        "else\n"
      ]
    },
    {
      "cell_type": "code",
      "execution_count": 80,
      "metadata": {},
      "outputs": [
        {
          "name": "stdout",
          "output_type": "stream",
          "text": [
            "verdadero\n"
          ]
        }
      ],
      "source": [
        "if num<3: \n",
        "    # si es verdadero\n",
        "    print('verdadero')\n",
        "elif\n",
        "    print('verdadero')\n",
        "\n",
        "elif\n",
        "\n",
        "elif\n",
        "\n",
        "\n",
        "else:\n",
        "    print('falso')\n",
        "\n"
      ]
    },
    {
      "cell_type": "markdown",
      "metadata": {
        "id": "qlS1DMa4cmi9"
      },
      "source": [
        "## Programación funcional\n",
        "Una función es cualquier proceso definido al que le das una entrada para que manipule esa entrada y devuelva de esos datos manipulados una salida."
      ]
    },
    {
      "cell_type": "markdown",
      "metadata": {
        "id": "ELM9K3LUcivV"
      },
      "source": [
        "![image.png](data:image/png;base64,iVBORw0KGgoAAAANSUhEUgAAASAAAACvCAYAAABdEgM5AAAABHNCSVQICAgIfAhkiAAAIABJREFUeF7tnQt4VNW59/+TC7mTEBIMELkZQDBFBAWJ3AkqclGoip72nAo99uKhtfa0/RRPv3NOq2h7aC3ix6m1Cu1RsVZACwpaiiAQuYQcApT7TW6JJCSEhIQkk8n3vmvPnuzZmUxmQrInM/Ou5xkls9esy2+t/V/vetfaa9siXixshAQhIASEQAAIRAQgT8lSCAgBIaAIiABJRxACQiBgBESAAoZeMhYCQkAESPqAEBACASMgAhQw9JKxEBACIkDSB4SAEAgYARGggKGXjIWAEBABkj4gBIRAwAiIAAUMvWQsBISACJD0ASEgBAJGQAQoYOglYyEgBESApA8IASEQMAIiQAFDLxkLASEgAiR9QAgIgYAREAEKGHrJWAgIAREg6QNCQAgEjEBUF5sjYJlLxkJACIQ3gai6RjGCwrsLSO2FQOAIiPoEjr3kLATCnoAIUNh3AQEgBAJHQAQocOwlZyEQ9gREgMK+CwgAIRA4AiJAgWMvOQuBsCcgAhT2XUAACIHAERABChx7yVkIhD0BEaCw7wICQAgEjoAIUODYS85CIOwJiACFfRcQAEIgcAREgALHXnIWAmFPQAQo7LuAABACgSMQFbiswydnR4Rg7mytHeGwd7YihWV55M7o4GZ32OuAU3s6OBdJ3l8Cjh6ZiEi+wd+fSfx2JiAC1M5Ajckpy4fEZ8/4+eiV1oEZSdJ+EaitBcaseR5F3WYjwlHv128lcvsSEAFqX57NU4uIxsAbgaSuGc2vyTeBIWArDky+kmszAiJAzZB04Bdy+GQHwvUj6Ug/4krUDiUgq2AdilcSFwJCwBsBESBvdOSaEBACHUpABKhD8UriQkAIeCMgAuSNjlwTAkKgQwmIAHUoXklcCAgBbwREgLzRkWtCQAh0KAERoA7FK4kLASHgjYAIkDc6ck0ICIEOJSAC1KF4JXEhIAS8EbBUgPjZKHky3FtzyDUhEF4ELBMgfip88Mb/hO3UTjhq6kmIokWMwquvSW2FQDMClgkQauz4/ax3UfHQfPwpJhezDy0C9m+C4/JlpxhFNyucfCEEhEBoE7D2YVTSmKRu6Xh4GujzMSrL30ThMeCNgjlYXjMWjl4jgdR0RVyOSQjtjie1EwJMwFoB4hwb6FFk51PhfETF2FEN9NmKJeWrlRh9fHAUXi+7H0W9x4oYSR8VAh1IoMkfawOuVgN1ZZYf0ma9ABmBshA5tLMRlBiRATR21Cn8e/Wz2Hcc2FjYH6+efQAne04CMrOcv2wk60iO0+zAfilJhzABTXRIcOoagKpS4MIePJG4CVMG7MJLnwzFttxlls4+LBWg+FgvLauflUOCFBWTgRG3ACOGVeEnjpdQcOAlbDmQifeKH0Be7Gg4+g4HurBwiRh5ISqXhIBzoccpOPW1sF3cgxn2nZiU8iEmZJ/DsJk0DYrX3B4f/D0B2yxmZqkA+Vw3gxgBuhjV4inHKygufgXrCwZgzbGpWOsgMcocBiTEixj5DFcihjoBNyvn4gnklH+Cyam7cM/QXbh1Avlhk4lABIlOg/OUTj6VNposogCEzilAZhCuqVoGMugc8XkzKjHP8SqJ0avYczQVqw5PxIqIGXCkDgHiEsU6MvOTv0OagPu0qgw9z2/DtG5HMDb5A4wbV4GsflT9KIPgsNZ40JvEOLKULA7BIUBGKCYxmt6rAdPHr8aSCs2Jve7ovfjjxXEo6jMZjmSWellRs7hPSXYdTMAlOJxPRQVsZYcwI2I/JqTS1GpInjatYneHbuXwPePD2ftVNY0dXPLmyQefABnrYBCjpK7swOYVtT14rnoDdhwANhzNxdrKydiXeheQmCqWUfP2l2+ChIBLdHi1qvwLDLt2ANOSPsOMQRtw6xSaViVRRXywcrxVVywgb3Rau2ZYUWMntraiVojn7BtRcBD49HgO3jl7N/Lrh8AxYKiIUWs85XpACZinVbxaNT9lL6b32YCcUReRluJ0Hut+HB+tnIBWykPmllpAXdlXbEUwOrEjdCf2MfyrPQ/FF6Gc2MtO/JOIkRVtIXn4TIAfT1LL47RahbOHkVO/Ff886COMG3kS/Xi1yjit4lR9mFb5nHmAIloqQAGpo2lFrcmJ/R+orAA+K0zFBxe+jtcu3SWWUUAaKHwzdV+tOgVcPo7Ffd/DpCzy49ztQXBacB4HM8HQFyBz65j8RtMnkhMbK/Gr8pex83Aa1hy4E8sq7yExGuNc3hcnthmh/N02Am6CU1OlnMfzojdjTv91yJ5Yhr59KV3j8ngICo6ZXPgJkJGAwW/EO7FzxzTQZydeLF+HQvIbrTw4A39rnIIjySPksRBzz5G/WyXgJjg8rSLn8cyaDzGtTyFGD9qBYVn6JkDaVMu+nDAQHDO08BYgL2I09k5aVbtrJ2Bfp5zYr++cgW32HOyLzQZ69Bcntrknyd+KgPLjcHCuVt1eW4B7Erdh6uBCDB5Vggze+2feBKj9IuD/TYqz/hEn6wSooS7ggH0ugEcntiZGx08Dfz18JxbvHqOeUXOIGPmMNRQjmlerBlcU0PJ4PoYlfY7JE0+i741Ua7U8zo8OhaeV463drROgyC7eytF5r5nEKIuMn6ysE3h88g6cvvASth52PhYSNx2Obr3ksZDO25LtUjLzJkAUH8LMiJ3atGqIcVpF2fG0KkiXx9sFlg+JWCdAwWQBtQTOIEa810gTo6bHQtbvSMaq/ffhQ+Q4ndhyyFpLKIPpe9e0ipfI6dkqfRNg7k35GD2l1POzVcFUwQCW1ToBokpGaydvBLC67Zi1p+X9OQ2Yh4100NpKrN+Rgg0nJmP5gWTYontTxh4evmnH4khS7UfAPK3SNwGOTd9mmlbx7SPTqushb6kAXU9BO/1vTStqD09rwMPYipergnTq2emBt18B3aZVZSWwVZzAmKoCzOlX0PRslfPICplWtR93TkkEqH15aqkZxCgxpgFVtU2nQHZEdpJmGwnQlMpRT9uJaXmcV6umJO5Qz1ZlZZJd04lXq9pY21Z/FoVQXgVrtfoSQQhYRICWwbt+WYi5PQ8it+d6jBxV1vzZqjDck2MRfbdsrLOAqum5BwlCoDMQqI/EzyZ+Qi9G4EUC5yZALlcIPFvVGfD6UwbrXsvjT6kkrhDoYAJRXZy+ORIjtVSuLyp0cL6dPnle6bMwiABZCFuyEgKdmYDNfsW5w9+6UooAWcdachICnZ9AKFpA2jJn52cvJfRCoL2GqvZKx0tR5VLwEGiTE5oFpS3v5oqJ8QCGO2RUC4dh2+mMWl/n5nrH9jW+h6I0+4rfFGAjRP6Uo1ki7fCFJ0aNtGRqeMmjeqsBl9UYzHH0a3p6XC8OzJ/jsj/EGDhepDPdOorbxUM8T/nqaejczPl5Sod/Y47H5Qo0e3ciLf9l7Cs6M1/LrtdbbwMjB0/9ubXrLZfS65WoRuuf1/RbgOae3YeUhnq82m+keueQr0Jkqy9FQpyp/gTy+NlGvPFBpUcwk0fFIXcUFdFTIxh/wQ1CcQ6ctiF7gB+i5TFX55fUod5dX4+9R6ux8JspSIyjG7G1cnhLr63XqG5bChrwcR6dBWwIA2+MwkN3J2rlog7/4eYGbC90j5Oe3g0jBtZiwginsHD5Kb2qmkgsXVmBl96tQ0lpHabmJODJh2IwfRKxZqHhwEwpMIPF71Rj976rKt535iRgTq5TGOj6C6/VoLK6+WHmV+mA8+cXdHNxW76qGv+5vBZfnLuGO4Yl4Lv3R2He/dQhdKbE+/jpCCx95wo+2O5Q8R6blYhvTq/C2NE9m8qlFatz/ZfKvmU3sOTtMqzZXIsh/SLxwMRY/PBrSUjrRkX11m+Ic2k58PPfV+CuW7vg4fuisDGvHmu3VON7jyQh60Zibfy9If7MCfG+3R8+0uqR7u3FfT4m4mc0Zzfz7VcsOH3pXJOXfzsfR1+fj+f3roXDXtd0BIFvybjFulYfgRdWXMXh03ZwpzV+amuJPI8m5mAstbNBkqZcwtrNJGSerClzLflv83d6Hvo1sia2F9apsl27ZiiDfr2l35vLer1/U/0vXbGpchSV2RQfZjX/5xVIGndedV62fPYd08qqx+F4S1aWYuK3SrDwFScXnRX9buGyKvz26RRs/l06eqfZMOOpMrz7UY1m5TjLPOPJMsxdeBm5dBzS1leh4n31Rxex8DfkrGTO9Fm9uV6Vzdx2V2qcgCjOwmWVqry/fCJW5TdmSKP6+8OtNOKy5UBRq2jH+MDZX+KNj+pd8c6XNmLctwEWL2V9dcZAZWfxYc7nyqJU/Z54MEExGf94CRBrKrfefwx1uVzViJf/VI0T58gKdZoELn7GOjuRFpfbVPyzRbRvwNjfPaTtD7JY0HnFfG7RdQR/3S0eLaCWE7GhIiIC11JTkVJTge9v+CW+/dnv8c7oR7Bg0HigGz/zxCcI+r+j8mdPpCKbzop324xpNkmdUwq+6dTI4gzcIFWV9UiKpxGVa8TZ68JF0xS3+PR9aalmEag0OJ4+9eCbgf5dSluW0mjQTTC/J4lvArIQ+HpsbCQSk0ggfTWzm4rb5n8t/XEyErtpw+HqDQ1KDNZ+VoN5c5sO23bFIQZLKKehD1xUN4Oy4ui3P16qWZssKGPvIg71dkzIScIg2v3LYjNiSAy9R8qBA8ei8OH2OvxpUQoenkVc6+PJEtG6ywsrqrTRPd1G2sff1WLJv9JrScwiYSeeVA7On60ZLR3Kb1QyDp214b1P68jqotc5UBLf+y9tn9ip1d2RRunylHDCHfG4+1+gxGrciNjm1kCbSbbjD1mE/3ZVJfjRr8jiobJPyNE4fW/xFVSVR2hWIEfw1PfUMR2GQLxyc6KRO572KFHbqL7JwuL8bRq9aSo22mRSOYVJDUYUXPeGN8vLLdPr/4M1gw2SysQ0/HLAHT7PjqJ+cnI3Fr7/U1yNM9zRrZSnNp5ecUNB//8/bX0d/MkbPAl/GDYNK/vSkEmhLULkljU3DnVqHgGXrbqGxT/oiocWlqlpQ9/MWOQvT1EN/kMekSk882oNNuXX4o8/T8Oc/1OJWTmROHbWrkaLkr9qb4Ec/3gZDp3WLJr0tC7486JkmqLQj6mBeboxdyGNWhS+Tzc13ySuQB2NLQS+SfUw/a4ueOfFdGunZ9e06U6/dBqtKHD9jIGttcR6qh+zo9E3IZ5vhgbNiiuPxIq/VKmp1NjRJBhq6kTxGhoxc2KSsoo2bK/BgoEJ2LxLu6keziWznPOkV2YjohEscErk6BETr4EHC07bGXbuI+uqml8aSeWha5+8TMLDNwgJON84XK5FTyRq4qOmgfRbGhCefSwef827irV50Xjqa5SnPkX0mnlgLn5W6MCce6ncJBwLHonHgod5YNA4savh0WevIP+gZmG4+t4o7mOGKSzh4cHl3165hL+8lEaDgTY1/Yd/16bB3O/nzbmZfvOlq5JfnCnGtB9GuvXr1c/X0ZthnMeBWILDhr6VJZj79tN4dEgO1t02C88OnULtneD1XfNKO232WmrrOp8/5vrUUSb8yTnyKX638klsWf1TPPpFgYrWsjXlnsprqyrwCo2UL/yu0vVhXwUHNu+54X5EQpP3WjfVUdlH8Ou3eGoBTBquCcXUkRF45G7N0cSdlkegs182YN1LqWTR2PCt58tVI+1/tyf2/AFKyL67qEzdqOx/YHG5fWiMus4+Fk6DA1s7pSWN6jqP5CxmzzyWoCyELfl0Y3maJrpXr/3+YpOePkVl2iDQK63pJudM9h6zK+vlwEmb4sncWHBYqE8XaUOizstYqIxu2k2w56gWh4WcfTXKqtFHUvo/+8KUP8wU2Coytt0rbzlNeRJuZsXce9xXpqZv23aRyHOahikFJ3dTpiZOrqRJRG/pr9Vv35Em4TfnHdC/SUDnTCFOFNginbewkiwimzY11i1CYvCTJZdVWxxbc4OaznLfe34FTS01Y8mtChUVtYoXuycQHUXCdVn54FYt7oF1v+6G5asPN8Wn3z++WOPL/VZP+6kltOJjnJ75ACk5rsotlnKv+PiJcGjbyGt69ETvyotqdnTl5Vl4kwwTzU0T5VELPFTfh5K2EIVFiBXvtpOf4487VuPf+t+CJx98ARvTb0JjlXYzt/BT5O1vUGKhh6q6KDw+mzp7UpMVsvw/UtUZPN97NFmN1uzv4PDQ1AT19+TbY5SZX+U0RXmUWf0bulF5NKbRXv2bp0xU69KSDHIWluDsJe0u4JGfA+eRPQg0HUxQ1hQ7FdmqYLO2cS/NyzhQeuwg56kF+17UNMI4immx2v2/z75SrqaFXG+2GDg8dj/lbW+ytac+UerKNzEpGkt/1FWLQyscl/y4h8+SgWVeVFMJt2DWs7+sS3RTWyV3dZ6FRLwXLUgCCyUPCC+sYF8VJ1Ssbkae7rndhSrTJouAxZ9DxZVO+pwEFX8CLZSw74cHSG4XvW14oHzmW9Q+ZLU19T0bUhIzaKArdw5wZIl6CaVF2uDLFrmyrqgr/+H/JpHP6Zr2K7K2PllGadgpHzJWS4u0fl1CfkPV1/0I9rqmVTA2HF753z/j26ueQ12Sbyc6NMR1V4YIB312NGvn26jcvhx/Hf4A/jxkUrPZUbsKEGccU12GkzfcjHW5TzpNMN9eBqZufLMPyARQzX3tNpf5X3JJA6ZGCj0YZiRjs503hHMezVbMa2uq8D80lUrsGqtGmXSnBXGhVBM/PQ+6/XBzP8bjHMnJytmY14i3NlzDpwV2pHfVGjcp3pB3Uyk65F/smLxCOtk1zuESFs0aabrx+aZOSdSsPXZW33tXnNNXFYnuKVo8j6tWlcWqzJw2h6l0U7HAqo5tDh6qvG4JiTtbZ8YZIU+XOC6xW0BW0CP3xCsLjRnyTTrrqVIcXNfD3adhmrpdKjmvcncJmrksneFv6qcsQrvfTsWBo8DbH7HQkt+NBsXHZ9O0Mo38jiWRymJ/f/M1NS3+4qJv4nDmgtYuGd0JJLOlvHqnGxqABNtTv+6b2cbD8Ows9NpvGyNjwBaNLiptQa0bJbkH1uOe3W/i6czb8eLk7+JPNw5TyamaxJaVKeHw5dOlrrklw9/x52RaPzz/4C9x2zf+G88On4mIqC4++4Hqaoo0pxuLjv5pYbT1GwTXktLqP+eSWrX57LV07Hq7q5qa1NTqQtJ0E6spFWmPbmHxKMwrHWxdTLuTpjcru2P9Et99Zn6Xt4UfsO9l+aIkLHkmGQu+FuPR98Tiw9MtduqzwPLKEndQDv16ah2XbwJlFer9mOp7upTOLaYwfJDW+W7P1kYy9l3oK1XKH7e2BqPmV6rtE26B24p9Rcb2o/TZv8PseCRnKzJ3DKVBdfj1jzM1nwX9JiNNGwfZiuIphyvQFGLnYXoFKIXxt9Lor8Sp84WCvxdjyy6tbLwNZBFZnTwd4sB+IfbHpU8tJmu5Hrv+JwO7302Fa3BspTp9emm+SzVoMBpqK7cBl0TeU79uJVnLL7MQ1ST3Qf9Lp/DH//ePeO+TJWpqFvVi9z6o+M4bPhforvN/B5tVnKAuRhuzp2HZyAewqXtfl/fbXwd0NVuUxo11PpeoKWJlNTW26qTNTUZeueKVsht7xKgb4QC96YJ9PDxN46A7YZe+U6lWdA4c0xyjeuonz2rW1g1p0cqiWPGB+56bNhS3bT9RDmH+qbvvxy0xEoHsoZrvhUfiHy+twvKfJalysz+Gv1u+uk5bPWNcdeScXqdN6WaOJx8a5XH3aE2IfrC4HCvIOlXMaHTnFSkOGfxuYMN8jM88arZXigSIVyh5iZp9Zyw8sNNdRHmePkO+N2fgcvF0hS0GtbeFV4AosGh98wVtwFPlau56cqURkH84B7aR3+DcS7Qp5UBN1S9d1gSpR9JF2nelrQ6nd++i2uD4MYea2vsS1Ioghbc3NtDKI4l4ciR+9WbTvrmW+jXvRepMQdcKXqha/I1HlFuGNSIqIvkG/Ldz+bz1Amsw5l4swtW+Q7Fh9P1YcfMElRgHTrBF4bF5n8NP+1E0buxOzklnqLZHY9KIKK3TmgqmDviiUNeodVTdgcodmKdXPMpwYD+SCnTD8g00e2KManjb7cVqsxivYrEjmf1D2QO0lS9eMeMPC1Nsr164duGCSoKXgckToW4mvqaPYPrUTcuoY/6rz83VCpd5M6czy2bTKhKRRU8kYemqOjXdeWxGHC1rQy3H5zuFZO/RerBp/+pf7Mqpr5z13OFpVE1MrFN+DVVfGr2ZlzZl7YJNy7qr6zwkV13RfBHZj15CfFRTG7Nv7fPX05Q/jcWHy8B+HPbTbfj8muL+xk9pTZmtTXskCWOisk7ZymR/B5eL25ODKhdNY5rt1O4Y3L6nygMBrdTxVgVeoGBrk4X06LmmwUutRJFyct9jBjx9Z07s4GfHsqfAiy7GYGwH/p756IHby9iveRGFLXu1gMLlc4qkp3xa+87WUIs4utdttO3GW4io19rJ6APS4/Os6kxyT3zawlYdW8SLhSZbuuWs2DHFq1vZ5edd/p0WBceQjFoJO/Ax6r/9Q/Bh7q6B02mib9rtdKiZsk5NiVJ7IgoKi1B4PLlp5y+BfXcjzaXjIjB9IokRWU48JSg4VAu2UEYO6YKPtl6F+r2+k5ry4lW1HftrwRscWXyOn2/E1oJr4NFV3zuxbU8xLlb2IJM/Qo3eB4/X4L5xCeqG45WyfSca0Z38Pzzn//BTbRSbPo6sKGWVeA7KOmht2drzT1UH0uumyuFpRzbF4XJfuJSilVWPY/gtczHuiGYB4H04LArs6/qH+7oqsXBb5qabizcI7jlUhy9L6xXbCcOJt96p6f+8mfBqjefKT74jVuNKl/X82G/Hq11q1+/dJOr6T53t8+dPqmja0qDKdcfQaM2H4hTFlhC15fvVn9GS+RTq+ubHT9qSGE1Ndd8P+93YXzVyEK3Iks/LuCdnY769Wd+bN5MWTah/cL0HZlZg7Kh0tYq5e391U78kkea9a3yf9Op+GWNvy1D9P6s37dsalq7aiPt1GVld3EeKS+3u/dpz87jX1Lnzf+7V9YhI0gTOUfElcu2e701PmJ7Y8z7Y18MhsuYSTqcNxPtj/tGrVvglQHqmLCi+CI8xvkcB4gjcmVtaxtanZHoc4xSNNw1y0DuQMQ5/z2map3TGvPiap3je0vF0zVgGLcVm/70uAeLUPNXfnEtLcTx9r3/HK048ZeX/s+/GU0fluBx0nvxvYzy9Hczl4b/N7WfMj/M13/z+lMtTfn58164CxPly2XnZW+fJ3xmZ6nXj7819j78z9ldvbWb+LbeFt7Q9tSnnZw4eBIij+LqNhhdteMl99ualyL9lBn47crZyNLemFQaPn7lELf/tj/i0nIrzCgPiTW7egqc45s5rjuMpTXMcztMczxzHeN3bNW/lv95r5nw9pddSHE/fu75j45fZezGCOS4HMye9DOZ20L83/t9jfh7a3GM8Twl2wu+47PoGSk88PbaDgYG3fqb488ef+B74toKNZxQwzQp9vddZaA70HIIV33mPXDJZlFOjd5eMsyxtEqBW6iGXhYAQCDMCLFQvZo1RtdY3JfqCQATIF0oSRwgIgVYJ+GotGRPSZ/itJi4RhIAQEALtTUAEqL2JSnpCIEgJxMRYLwfW5xikjSPFFgJCoP0JWCZAgxNsoCczPC/1tn+9JEUhIASCgIBlAhQELKSIQiCsCUT7eXxHe8ASAWoPipKGEAh2ArTBMbKx6VEoq6ojAmQVaclHCAiBZgSsFSBrc2tWWflCCAiBzkVAJKFztYeURgiEFQERoLBqbqmsEGiFAJ0Nb2WwSIAMpw1aWTvJSwgIgU5NwCIB6tQMpHBhSODISTrR0kGrPnycCH/kTghIL7AMe0yD9taJgNQyEJkyWf0TiPwlz5YJRBZj4an5sC35NZ5+cyQ2ft6I4i/p8HcbfXQxsuzOaLmY4XBFnoZvr1bWOywfLEUjKx8kd5pOc926TzvJ0XWKYHvlJ+lcF4GeaTegKPte/AL0OU/nXP/vceRc24n70z9EzuBTuHUgkEQnxiKCDuvXDwHTz0a6rpzlx0YCIkBt7Q8mwamkPlxIB9kfvZSN7cXT8EY5HcDcm149UnICD9bPB+K0c6rbmp38rmMIqLNr6AhSR/II5GEk8uroZfSn6MD87XswP2UvpvfZgJwhxeAz+KPiRYzauxVEgHwlyoKjHx1LFk4xWetHzqfj4Jc3Yf2ZOVjrGA3w4fyJdIB3Jp1Gl8mnDJLz/dIZX3OQeAEk4DrLhu+IlBQ4Uu/BG2QdvVH5feDjC7i9tgBTEndgxqANza2jELGM4vm9CxYHESBPwI3WDV+3l+AL0pFjxWnYcmQANpXNRV4sCQ690kgJzkDtWFOtE1NvdGg90vfzdD0VQr4LJAGXIMVFw5FwE/KRhfy6r+IXp56Bbe8JzLDvxAP9t2PKzQfQ90YqaRRZRxzM55AHshJBkLdlAtTFZu3+Ar/YexCc46eBgmMpKLh0J9ZXjse+2Gwy1amTpSfS1Mqz4PiVp0QOGgLNraPRWIs7sbZuAbD5FHqW78fspM9x38A8eptKCZK6iRj52riWCZCvBbIkngfBKaAXFRaeGYCt54Zjec1YoNdIes80vR20WwxwQ6ThnNsmC8eSskomnY6AmyD16ouizCwsq5uFZZfpNU1v7cPM2P2YlvE5RvfZgRE0bilHNodgsI6qyZlJU1CrQngIkMlhzCtU+44De89nY92x4Vhjp+lUn9vJUUzWzU1G64abQQTHqs4YrPkoRzbfSVE0XRusW0e08HCUXti3MR8/6LkDuT3X07vCSpDBaxGysuZqassEqGeU9krfDu9kZuuGHMa8QlVwPB35ZwdiS9nXsbbmTmDAUK0oQ2Q61eFtEkYZuFlHvLr2lSn4Dehz9Wlg1UHk1G/F1wflK+toWJZzZY35hOlSv2UClBHvfJFge3dGk+DYq0tQehnIO9QDBUXD8HHVWOTHjAAzPwE+AAAFl0lEQVR69KcpFWXe12ThOB3G7V0sSU8IMAHXK2roTnPcnE1L/V+hpX66F9g62nYc8yLW4N6+m5TvKNBL/V2b3vhsWeNZJkDtViMP0ym14e/wAOQXDcU2e47mMGbBoffBs/9Gf0maKoMITrs1hSTkH4Fm1hHtPVpOe4+WsyB9rDmzv5n6Ae4Zuqv5Ur/qu/7l52/sRBaghNhW32bqb7re4nd+AWLBMey/4enUsbPAzjN3Ir9kGrbX34Yj0TdpFk4/FhsO2lsZ1T9FcJxM5H+djYAnZ/ZzmI3nzlTQUv8hzIig1bWMDzDu5pPo18s0XetgMbKKlWUC1FBL8yLlfPNSNbP/hvbfVF4hsTmchsKiQdhSPAfrokajMZkER9/w5xIbcRZ7ISuXgoCAa7qmdmYbnNlbNevo3vg9+OrNmzVndg+qEO89amffke3yOTR2620ZLcsEyGONPAhO8UVgz9FUWg4fha0Xs5DXhfw3mfRIQww5cFrY8OcxbflSCAQxAU/W0XKyjpZfpqf43z+knlub068Ak7Lymjuzg8g6sl6ADFMqdhiz/4Y3/G05N1bz3zTSttJeQ1z7b5qmU2LhBPH9JEW/TgIu64h3Zg/Un1uj6cSeU8DfjuNR21ZM7bMJk2+raNqZ3QbrqNEefZ0l9e/nlglQTUUldMFZ/Xl/HLGPw/rywSjq9pUW/DciOP41pcQOFwJm68hBGyFX0nNrK9mZTTuz+bm1e2M/Qu4tpzAii3Zm+/hUfy3towTvabIwWCRAjVjZOA4rXx2n7TBOpeenupDDOJNr6nQYi7PYwmaXrEKJgNtSf6bzuTU8jOe+oBWbnYcw27EJMwbuxfDeBzrddM0SAWLFdmTfo9pcU2+xbkLpBpC6dB4CLuuIi+R0Zq+h59bWXCXf0R56qj9Pe6p/XOYud2c2RWc3q9XBEgHiSrmBsbqWkp8QCFMCrvuOfEeI64v8CHqqn6yjX5SSdXRQO4TtwYz3MSH7XEAIWSZAAamdZCoEhIAbAfelfsMhbOzMLv+C3CKZlhoLIkDSQYVAmBJo7sy+yVLxYez6TpwwbQKpthAQAjqBQLhJRICk/wkBIRAwAiJAAUMvGQsBISACJH1ACAiBgBEQAQoYeslYCAgBESDpA0JACASMgAhQwNBLxkJACIgASR8QAkIgYAREgAKGXjIWAkJABEj6gBAQAgEjIAIUMPSSsRAQAiJA0geEgBAIGAF5GNUC9HF8zgq/2UN/aYcFeUoWXghE9/RyUS5ZSUAEqINp26Lq8V9vJSI2IQCnPXVw3YI1+WtXL6PIFkfFbwzWKoRMuW0RLxZKK3RwczrsMtPtYMR+Jx8RFUSvjvC7dsHzA7GALGgr6ewWQJYsgpKADM1B2WxSaCEQGgREgEKjHaUWQiAoCYgABWWzSaGFQGgQEAEKjXaUWgiBoCQgAhSUzSaFFgKhQUAEKDTaUWohBIKSgAhQUDabFFoIhAYBEaDQaEephRAISgIiQEHZbFJoIRAaBESAQqMdpRZCICgJiAAFZbNJoYVAaBAQAQqNdpRaCIGgJCACFJTNJoUWAqFBQAQoNNpRaiEEgpKACFBQNpsUWgiEBgERoNBoR6mFEAhKAiJAQdlsUmghEBoERIBCox2lFkIgKAmIAAVls0mhhUBoEBABCo12lFoIgaAkIAIUlM0mhRYCoUFABCg02lFqIQSCkoAIUFA2mxRaCIQGARGg0GhHqYUQCEoCIkBB2WxSaCEQGgREgEKjHaUWQiAoCYgABWWzSaGFQGgQEAEKjXaUWgiBoCQgAhSUzSaFFgKhQUAEKDTaUWohBIKSgAhQUDabFFoIhAYBEaDQaEephRAISgIiQEHZbFJoIRAaBESAQqMdpRZCICgJiAAFZbNJoYVAaBAQAQqNdpRaCIGgJPD/AQAhwfU89OHsAAAAAElFTkSuQmCC)"
      ]
    },
    {
      "cell_type": "markdown",
      "metadata": {
        "id": "c8pcGHGxc0yw"
      },
      "source": [
        "$$f(x) = x^2$$\n",
        "$$f(x) = f(x-1) + 1$$"
      ]
    },
    {
      "cell_type": "code",
      "execution_count": 81,
      "metadata": {
        "id": "48vqDNwcZ0jw"
      },
      "outputs": [],
      "source": [
        "def f(x): # def sirve para definir la funcion f\n",
        "  return x**2 ## **: elevar al .. *:multiplicar /: dividir %: modulo //: Division entera"
      ]
    },
    {
      "cell_type": "code",
      "execution_count": null,
      "metadata": {},
      "outputs": [],
      "source": [
        "[[2,1,3], ['hola', 'chau'], ['hola']] # -> [2, 1, 3]"
      ]
    },
    {
      "cell_type": "code",
      "execution_count": 91,
      "metadata": {},
      "outputs": [],
      "source": [
        "def descomponer(estructura):\n",
        "    for iter_ in estructura:\n",
        "        if isinstance(iter_, (list, dict, tuple, set)):\n",
        "            hola = descomponer(iter_)\n",
        "        else:\n",
        "            "
      ]
    },
    {
      "cell_type": "markdown",
      "metadata": {
        "id": "4DD-nrmSdsKR"
      },
      "source": [
        "## Programación orientada a objetos (POO)\n",
        "\n",
        "Como sugiere el nombre, básicamente sirve para crear objetos materiales que poseen **atributos** así como cosas que se pueden hacer con él (**métodos**), también todos se construyen de alguna manera (**constructor**), y así hay una larga lista de cosas que se pueden hacer con los objetos de la vida real, pero nos vamos a concentrar en lo básico."
      ]
    },
    {
      "cell_type": "code",
      "execution_count": null,
      "metadata": {
        "id": "DVTwwMhfdxDw"
      },
      "outputs": [],
      "source": [
        "class Mesa: # 'class' se usa para crear el objeto Mesa\n",
        "  patas: int = 4\n",
        "  largo: int = 5\n",
        "  ancho: int = 2\n",
        "  color: str = 'marron' # Todos estos son atributos de una mesa"
      ]
    },
    {
      "cell_type": "code",
      "execution_count": null,
      "metadata": {
        "colab": {
          "base_uri": "https://localhost:8080/"
        },
        "id": "REIlhaw4fjAU",
        "outputId": "cfb1f124-1f50-4781-e6fc-267159409a62"
      },
      "outputs": [
        {
          "data": {
            "text/plain": [
              "4"
            ]
          },
          "execution_count": 6,
          "metadata": {},
          "output_type": "execute_result"
        }
      ],
      "source": [
        "# Y podemos acceder a los atributos con puntos\n",
        "Mesa.patas"
      ]
    },
    {
      "cell_type": "markdown",
      "metadata": {
        "id": "0m3RLT0se4DV"
      },
      "source": [
        "Pero no tiene sentido que exista nomas, tiene que ser creado de alguna manera cuando yo quiera que se cree."
      ]
    },
    {
      "cell_type": "code",
      "execution_count": null,
      "metadata": {
        "id": "cAE-Y_iFe9WV"
      },
      "outputs": [],
      "source": [
        "class Mesa:\n",
        "  \"\"\"\n",
        "  Utilizamos 'def' para crear una funcion que al estar\n",
        "  dentro de un objeto se le llama metodo. __init__ se\n",
        "  utiliza en python para sentenciar al constructor,\n",
        "  ahora siempre que yo quiera que se cree este objeto,\n",
        "  el constructor lo construira.\n",
        "  \"\"\"\n",
        "  def __init__(self):  # self se utiliza para hacer referencia al cuerpo del objeto, cuando yo pongo self.patas estoy accediendo al atributo patas de mi actual objeto\n",
        "    self.patas: int = 4\n",
        "    self.largo: int = 5\n",
        "    self.ancho: int = 2\n",
        "    self.color: str = 'marron' # Todos estos son atributos de una mesa\n"
      ]
    },
    {
      "cell_type": "code",
      "execution_count": null,
      "metadata": {
        "colab": {
          "base_uri": "https://localhost:8080/",
          "height": 159
        },
        "id": "9_rAGw4RfrtL",
        "outputId": "1b4998f3-8f4c-4a39-8c99-16a257ee77cc"
      },
      "outputs": [
        {
          "ename": "AttributeError",
          "evalue": "type object 'Mesa' has no attribute 'patas'",
          "output_type": "error",
          "traceback": [
            "\u001b[0;31m---------------------------------------------------------------------------\u001b[0m",
            "\u001b[0;31mAttributeError\u001b[0m                            Traceback (most recent call last)",
            "\u001b[0;32m<ipython-input-16-9a2ab74b475b>\u001b[0m in \u001b[0;36m<cell line: 2>\u001b[0;34m()\u001b[0m\n\u001b[1;32m      1\u001b[0m \u001b[0;31m# Ahora si tratamos de acceder al atributo miren lo que pasa\u001b[0m\u001b[0;34m\u001b[0m\u001b[0;34m\u001b[0m\u001b[0m\n\u001b[0;32m----> 2\u001b[0;31m \u001b[0mMesa\u001b[0m\u001b[0;34m.\u001b[0m\u001b[0mpatas\u001b[0m\u001b[0;34m\u001b[0m\u001b[0;34m\u001b[0m\u001b[0m\n\u001b[0m",
            "\u001b[0;31mAttributeError\u001b[0m: type object 'Mesa' has no attribute 'patas'"
          ]
        }
      ],
      "source": [
        "# Ahora si tratamos de acceder al atributo miren lo que pasa\n",
        "Mesa.patas"
      ]
    },
    {
      "cell_type": "markdown",
      "metadata": {
        "id": "q_t0VUoofyOD"
      },
      "source": [
        "Esto pasa porque todavía no construimos la mesa, y sólo aparecerá la mesa cuando la construyamos."
      ]
    },
    {
      "cell_type": "code",
      "execution_count": null,
      "metadata": {
        "colab": {
          "base_uri": "https://localhost:8080/"
        },
        "id": "HJBrlPxQfu0E",
        "outputId": "a98744c6-5a74-4b99-de3a-029e060aa1e8"
      },
      "outputs": [
        {
          "data": {
            "text/plain": [
              "4"
            ]
          },
          "execution_count": 17,
          "metadata": {},
          "output_type": "execute_result"
        }
      ],
      "source": [
        "Mesa().patas # el () construye el objeto"
      ]
    },
    {
      "cell_type": "code",
      "execution_count": null,
      "metadata": {
        "id": "ujbSFMvxf7rK"
      },
      "outputs": [],
      "source": [
        "# Y claro, podemos asignar las mesas que queramos a variables\n",
        "mesa_1 = Mesa()\n",
        "mesa_2 = Mesa()\n",
        "mesa_3 = Mesa()"
      ]
    },
    {
      "cell_type": "markdown",
      "metadata": {
        "id": "6j2EdwYag7kw"
      },
      "source": [
        "Acá creamos tres mesas diferentes, una para cada una de las variables, pero todas las mesas son iguales."
      ]
    },
    {
      "cell_type": "markdown",
      "metadata": {
        "id": "3PpWl-J5gzXG"
      },
      "source": [
        "pero que pasa si queremos que diferentes mesas tengan diferentes colores?"
      ]
    },
    {
      "cell_type": "code",
      "execution_count": null,
      "metadata": {
        "id": "nPlRgokahBzP"
      },
      "outputs": [],
      "source": [
        "class Mesa:\n",
        "  def __init__(self, color: str):\n",
        "    self.patas: int = 4\n",
        "    self.largo: int = 5\n",
        "    self.ancho: int = 2\n",
        "    self.color: str = color # Entonces el color que nosotros le pasemos al constructor siempre irá como self.color\n"
      ]
    },
    {
      "cell_type": "markdown",
      "metadata": {
        "id": "T-kNwpwwhaMc"
      },
      "source": [
        "Ahora ya puedo hacer mesas de diferentes colores"
      ]
    },
    {
      "cell_type": "code",
      "execution_count": null,
      "metadata": {
        "id": "-JezHBathYhX"
      },
      "outputs": [],
      "source": [
        "mesa_1 = Mesa('verde')\n",
        "mesa_2 = Mesa('marron')\n",
        "mesa_3 = Mesa('rojo')"
      ]
    },
    {
      "cell_type": "markdown",
      "metadata": {
        "id": "DORs1pN2h8Ky"
      },
      "source": [
        "Ahora, que pasa si yo quiero cortar una pata de la mesa, y aqui entran los metodos de los que estabamos hablando antes, vamos a definir mas propiedades:\n",
        "- patas\n",
        "- largo de patas\n",
        "- largo\n",
        "- ancho\n",
        "- color\n",
        "\n",
        "Aqui tambien pueden entrar las estructuras de datos."
      ]
    },
    {
      "cell_type": "code",
      "execution_count": null,
      "metadata": {
        "id": "xxrUs_JuhzTh"
      },
      "outputs": [],
      "source": [
        "class Mesa:\n",
        "  def __init__(self, largo_de_patas: float, color, largo, ancho):\n",
        "\n",
        "    self.patas: dict = {\n",
        "        1: largo_de_patas,\n",
        "        2: largo_de_patas,\n",
        "        3: largo_de_patas,\n",
        "        4: largo_de_patas\n",
        "    } # aca estoy poniendole a cada una de las 4 patas una longitud\n",
        "\n",
        "    self.color = color\n",
        "\n",
        "    self.largo = largo\n",
        "\n",
        "    self.ancho = ancho\n",
        "\n",
        "  def pintar(self, color):\n",
        "    self.color = color\n",
        "\n",
        "  def lijar(self):\n",
        "    self.color = 'marron'\n",
        "\n",
        "  def cortar_pata(self, pata, longitud): # siempre se utiliza self para asegurar que es un metodo\n",
        "    self.patas[pata] = self.patas[pata] - longitud\n"
      ]
    },
    {
      "cell_type": "code",
      "execution_count": null,
      "metadata": {
        "id": "7yjEjM1Djpe9"
      },
      "outputs": [],
      "source": [
        "mesa_1 = Mesa(largo_de_patas=4, color = 'verde', ancho = 3, largo = 3)"
      ]
    },
    {
      "cell_type": "code",
      "execution_count": null,
      "metadata": {
        "id": "YaCkp4zBjxeW"
      },
      "outputs": [],
      "source": [
        "# Para acceder a los metodos, tambien utilizando puntos\n",
        "mesa_1.pintar('marron')"
      ]
    },
    {
      "cell_type": "markdown",
      "metadata": {
        "id": "kzAliJczjO_2"
      },
      "source": [
        "Y asi es como podemos crear un objeto real en programacion, pero hay cosas raras que pueden pasar:"
      ]
    },
    {
      "cell_type": "code",
      "execution_count": null,
      "metadata": {
        "id": "EndzZSfRj4BY"
      },
      "outputs": [],
      "source": [
        "mesa_1.cortar_pata(3, 5)"
      ]
    },
    {
      "cell_type": "code",
      "execution_count": null,
      "metadata": {
        "colab": {
          "base_uri": "https://localhost:8080/"
        },
        "id": "hEc91iWzkDBR",
        "outputId": "bc441ead-679f-493f-a974-695c7d3cee17"
      },
      "outputs": [
        {
          "data": {
            "text/plain": [
              "-1"
            ]
          },
          "execution_count": 25,
          "metadata": {},
          "output_type": "execute_result"
        }
      ],
      "source": [
        "mesa_1.patas[3]"
      ]
    },
    {
      "cell_type": "markdown",
      "metadata": {
        "id": "mzG4FT_FkHAs"
      },
      "source": [
        "Acaso esto tiene sentido? Es ahi que entran los errores, y es muy importante saber cuando parar el codigo para que no pasen cosas raras"
      ]
    },
    {
      "cell_type": "code",
      "execution_count": null,
      "metadata": {
        "id": "K49zQUDAkFVJ"
      },
      "outputs": [],
      "source": [
        "class Mesa:\n",
        "  def __init__(self, largo_de_patas: float, color, largo, ancho):\n",
        "\n",
        "    self.patas: dict = {\n",
        "        1: largo_de_patas,\n",
        "        2: largo_de_patas,\n",
        "        3: largo_de_patas,\n",
        "        4: largo_de_patas\n",
        "    } # aca estoy poniendole a cada una de las 4 patas una longitud\n",
        "\n",
        "    self.color = color\n",
        "\n",
        "    self.largo = largo\n",
        "\n",
        "    self.ancho = ancho\n",
        "\n",
        "  def pintar(self, color):\n",
        "    self.color = color\n",
        "\n",
        "  def lijar(self):\n",
        "    self.color = 'marron'\n",
        "\n",
        "  def cortar_pata(self, num_pata, longitud): # siempre se utiliza self para asegurar que es un metodo\n",
        "    if longitud > self.patas[num_pata]:\n",
        "      raise ValueError('no se puede cortar mas de lo que ya hay')\n",
        "    self.patas[num_pata] = self.patas[num_pata] - longitud"
      ]
    },
    {
      "cell_type": "markdown",
      "metadata": {
        "id": "bPolHR5fsotn"
      },
      "source": [
        "Otra opcion podria ser:\n",
        "\n",
        "\n",
        "```python\n",
        "def cortar_pata(self, num_pata, longitud): # siempre se utiliza self para asegurar que es un metodo\n",
        "    assert (longitud < self.patas[num_pata]), 'No se puede cortar mas de lo que ya hay'\n",
        "    self.patas[num_pata] = self.patas[num_pata] - longitud\n",
        "```\n",
        "\n"
      ]
    },
    {
      "cell_type": "markdown",
      "metadata": {
        "id": "r9jaAwonr4iJ"
      },
      "source": [
        "[PROBLEMAS DE PYTHON](https://www.hackerrank.com/domains/python)"
      ]
    },
    {
      "cell_type": "code",
      "execution_count": 1,
      "metadata": {},
      "outputs": [],
      "source": [
        "import numpy as np\n",
        "import pandas as pd\n",
        "from sklearn.linear_model import LinearRegression"
      ]
    },
    {
      "cell_type": "code",
      "execution_count": 2,
      "metadata": {},
      "outputs": [],
      "source": [
        "df = pd.read_csv('usa_mercedes_benz_prices.csv')"
      ]
    },
    {
      "cell_type": "code",
      "execution_count": 3,
      "metadata": {},
      "outputs": [
        {
          "data": {
            "text/html": [
              "<div>\n",
              "<style scoped>\n",
              "    .dataframe tbody tr th:only-of-type {\n",
              "        vertical-align: middle;\n",
              "    }\n",
              "\n",
              "    .dataframe tbody tr th {\n",
              "        vertical-align: top;\n",
              "    }\n",
              "\n",
              "    .dataframe thead th {\n",
              "        text-align: right;\n",
              "    }\n",
              "</style>\n",
              "<table border=\"1\" class=\"dataframe\">\n",
              "  <thead>\n",
              "    <tr style=\"text-align: right;\">\n",
              "      <th></th>\n",
              "      <th>Name</th>\n",
              "      <th>Mileage</th>\n",
              "      <th>Rating</th>\n",
              "      <th>Review Count</th>\n",
              "      <th>Price</th>\n",
              "    </tr>\n",
              "  </thead>\n",
              "  <tbody>\n",
              "    <tr>\n",
              "      <th>0</th>\n",
              "      <td>2021 Mercedes-Benz A-Class A 220 4MATIC</td>\n",
              "      <td>29,636 mi.</td>\n",
              "      <td>3.9</td>\n",
              "      <td>1,800</td>\n",
              "      <td>$30,900</td>\n",
              "    </tr>\n",
              "    <tr>\n",
              "      <th>1</th>\n",
              "      <td>2022 Mercedes-Benz AMG SL 63 Base</td>\n",
              "      <td>5,540 mi.</td>\n",
              "      <td>4.7</td>\n",
              "      <td>1,239</td>\n",
              "      <td>$139,999</td>\n",
              "    </tr>\n",
              "    <tr>\n",
              "      <th>2</th>\n",
              "      <td>2022 Mercedes-Benz AMG SL 63 Base</td>\n",
              "      <td>4,890 mi.</td>\n",
              "      <td>4.7</td>\n",
              "      <td>1,239</td>\n",
              "      <td>$132,999</td>\n",
              "    </tr>\n",
              "    <tr>\n",
              "      <th>3</th>\n",
              "      <td>2020 Mercedes-Benz AMG E 53 Base 4MATIC</td>\n",
              "      <td>29,746 mi.</td>\n",
              "      <td>4.8</td>\n",
              "      <td>752</td>\n",
              "      <td>$58,587</td>\n",
              "    </tr>\n",
              "    <tr>\n",
              "      <th>4</th>\n",
              "      <td>2021 Mercedes-Benz AMG GLS 63 Base 4MATIC</td>\n",
              "      <td>32,631 mi.</td>\n",
              "      <td>5.0</td>\n",
              "      <td>1,502</td>\n",
              "      <td>$95,990</td>\n",
              "    </tr>\n",
              "    <tr>\n",
              "      <th>...</th>\n",
              "      <td>...</td>\n",
              "      <td>...</td>\n",
              "      <td>...</td>\n",
              "      <td>...</td>\n",
              "      <td>...</td>\n",
              "    </tr>\n",
              "    <tr>\n",
              "      <th>2424</th>\n",
              "      <td>2021 Mercedes-Benz E-Class E 450 4MATIC</td>\n",
              "      <td>54,422 mi.</td>\n",
              "      <td>NaN</td>\n",
              "      <td>236</td>\n",
              "      <td>$53,490</td>\n",
              "    </tr>\n",
              "    <tr>\n",
              "      <th>2425</th>\n",
              "      <td>2022 Mercedes-Benz S-Class 4MATIC</td>\n",
              "      <td>11,395 mi.</td>\n",
              "      <td>4.5</td>\n",
              "      <td>1,334</td>\n",
              "      <td>$89,599</td>\n",
              "    </tr>\n",
              "    <tr>\n",
              "      <th>2426</th>\n",
              "      <td>2021 Mercedes-Benz GLB 250 Base 4MATIC</td>\n",
              "      <td>30,392 mi.</td>\n",
              "      <td>4.9</td>\n",
              "      <td>2,375</td>\n",
              "      <td>$32,890</td>\n",
              "    </tr>\n",
              "    <tr>\n",
              "      <th>2427</th>\n",
              "      <td>2023 Mercedes-Benz E-Class E 450 4MATIC</td>\n",
              "      <td>3,413 mi.</td>\n",
              "      <td>4.8</td>\n",
              "      <td>1,758</td>\n",
              "      <td>$53,983</td>\n",
              "    </tr>\n",
              "    <tr>\n",
              "      <th>2428</th>\n",
              "      <td>2023 Mercedes-Benz GLA 250 Base</td>\n",
              "      <td>6,336 mi.</td>\n",
              "      <td>4.5</td>\n",
              "      <td>2,057</td>\n",
              "      <td>$46,035</td>\n",
              "    </tr>\n",
              "  </tbody>\n",
              "</table>\n",
              "<p>2429 rows × 5 columns</p>\n",
              "</div>"
            ],
            "text/plain": [
              "                                           Name     Mileage  Rating  \\\n",
              "0       2021 Mercedes-Benz A-Class A 220 4MATIC  29,636 mi.     3.9   \n",
              "1             2022 Mercedes-Benz AMG SL 63 Base   5,540 mi.     4.7   \n",
              "2             2022 Mercedes-Benz AMG SL 63 Base   4,890 mi.     4.7   \n",
              "3       2020 Mercedes-Benz AMG E 53 Base 4MATIC  29,746 mi.     4.8   \n",
              "4     2021 Mercedes-Benz AMG GLS 63 Base 4MATIC  32,631 mi.     5.0   \n",
              "...                                         ...         ...     ...   \n",
              "2424    2021 Mercedes-Benz E-Class E 450 4MATIC  54,422 mi.     NaN   \n",
              "2425          2022 Mercedes-Benz S-Class 4MATIC  11,395 mi.     4.5   \n",
              "2426     2021 Mercedes-Benz GLB 250 Base 4MATIC  30,392 mi.     4.9   \n",
              "2427    2023 Mercedes-Benz E-Class E 450 4MATIC   3,413 mi.     4.8   \n",
              "2428            2023 Mercedes-Benz GLA 250 Base   6,336 mi.     4.5   \n",
              "\n",
              "     Review Count     Price  \n",
              "0          1,800    $30,900  \n",
              "1          1,239   $139,999  \n",
              "2          1,239   $132,999  \n",
              "3            752    $58,587  \n",
              "4          1,502    $95,990  \n",
              "...           ...       ...  \n",
              "2424         236    $53,490  \n",
              "2425       1,334    $89,599  \n",
              "2426       2,375    $32,890  \n",
              "2427       1,758    $53,983  \n",
              "2428       2,057    $46,035  \n",
              "\n",
              "[2429 rows x 5 columns]"
            ]
          },
          "execution_count": 3,
          "metadata": {},
          "output_type": "execute_result"
        }
      ],
      "source": [
        "df"
      ]
    },
    {
      "cell_type": "code",
      "execution_count": 4,
      "metadata": {},
      "outputs": [
        {
          "data": {
            "text/plain": [
              "0       2021\n",
              "1       2022\n",
              "2       2022\n",
              "3       2020\n",
              "4       2021\n",
              "        ... \n",
              "2424    2021\n",
              "2425    2022\n",
              "2426    2021\n",
              "2427    2023\n",
              "2428    2023\n",
              "Name: Name, Length: 2429, dtype: object"
            ]
          },
          "execution_count": 4,
          "metadata": {},
          "output_type": "execute_result"
        }
      ],
      "source": [
        "df['Name'] = df['Name'].apply(lambda x: x[:4])\n",
        "df['Name']"
      ]
    },
    {
      "cell_type": "code",
      "execution_count": 5,
      "metadata": {},
      "outputs": [],
      "source": [
        "df['Price'] = df['Price'].apply(lambda x: x[1:].replace(',',''))\n",
        "\n",
        "df = df[['Name','Price']]"
      ]
    },
    {
      "cell_type": "code",
      "execution_count": 6,
      "metadata": {},
      "outputs": [
        {
          "name": "stderr",
          "output_type": "stream",
          "text": [
            "/tmp/ipykernel_22748/1660432427.py:1: SettingWithCopyWarning: \n",
            "A value is trying to be set on a copy of a slice from a DataFrame\n",
            "\n",
            "See the caveats in the documentation: https://pandas.pydata.org/pandas-docs/stable/user_guide/indexing.html#returning-a-view-versus-a-copy\n",
            "  df.drop(590, inplace = True)\n"
          ]
        }
      ],
      "source": [
        "df.drop(590, inplace = True)"
      ]
    },
    {
      "cell_type": "code",
      "execution_count": 7,
      "metadata": {},
      "outputs": [],
      "source": [
        "df = df.astype(np.float32).groupby('Name').mean()"
      ]
    },
    {
      "cell_type": "code",
      "execution_count": 8,
      "metadata": {},
      "outputs": [
        {
          "data": {
            "text/html": [
              "<div>\n",
              "<style scoped>\n",
              "    .dataframe tbody tr th:only-of-type {\n",
              "        vertical-align: middle;\n",
              "    }\n",
              "\n",
              "    .dataframe tbody tr th {\n",
              "        vertical-align: top;\n",
              "    }\n",
              "\n",
              "    .dataframe thead th {\n",
              "        text-align: right;\n",
              "    }\n",
              "</style>\n",
              "<table border=\"1\" class=\"dataframe\">\n",
              "  <thead>\n",
              "    <tr style=\"text-align: right;\">\n",
              "      <th></th>\n",
              "      <th>Price</th>\n",
              "    </tr>\n",
              "    <tr>\n",
              "      <th>Name</th>\n",
              "      <th></th>\n",
              "    </tr>\n",
              "  </thead>\n",
              "  <tbody>\n",
              "    <tr>\n",
              "      <th>2014.0</th>\n",
              "      <td>21844.000000</td>\n",
              "    </tr>\n",
              "    <tr>\n",
              "      <th>2015.0</th>\n",
              "      <td>39342.332031</td>\n",
              "    </tr>\n",
              "    <tr>\n",
              "      <th>2016.0</th>\n",
              "      <td>40395.175781</td>\n",
              "    </tr>\n",
              "    <tr>\n",
              "      <th>2017.0</th>\n",
              "      <td>33889.500000</td>\n",
              "    </tr>\n",
              "    <tr>\n",
              "      <th>2018.0</th>\n",
              "      <td>41755.718750</td>\n",
              "    </tr>\n",
              "    <tr>\n",
              "      <th>2019.0</th>\n",
              "      <td>47480.175781</td>\n",
              "    </tr>\n",
              "    <tr>\n",
              "      <th>2020.0</th>\n",
              "      <td>45227.066406</td>\n",
              "    </tr>\n",
              "    <tr>\n",
              "      <th>2021.0</th>\n",
              "      <td>49919.683594</td>\n",
              "    </tr>\n",
              "    <tr>\n",
              "      <th>2022.0</th>\n",
              "      <td>64389.960938</td>\n",
              "    </tr>\n",
              "    <tr>\n",
              "      <th>2023.0</th>\n",
              "      <td>60565.089844</td>\n",
              "    </tr>\n",
              "    <tr>\n",
              "      <th>2024.0</th>\n",
              "      <td>69205.085938</td>\n",
              "    </tr>\n",
              "  </tbody>\n",
              "</table>\n",
              "</div>"
            ],
            "text/plain": [
              "               Price\n",
              "Name                \n",
              "2014.0  21844.000000\n",
              "2015.0  39342.332031\n",
              "2016.0  40395.175781\n",
              "2017.0  33889.500000\n",
              "2018.0  41755.718750\n",
              "2019.0  47480.175781\n",
              "2020.0  45227.066406\n",
              "2021.0  49919.683594\n",
              "2022.0  64389.960938\n",
              "2023.0  60565.089844\n",
              "2024.0  69205.085938"
            ]
          },
          "execution_count": 8,
          "metadata": {},
          "output_type": "execute_result"
        }
      ],
      "source": [
        "df"
      ]
    },
    {
      "cell_type": "code",
      "execution_count": 9,
      "metadata": {},
      "outputs": [],
      "source": [
        "x = df.index.values.reshape(-1, 1).astype(np.float32)\n",
        "y = df['Price'].values.reshape(-1, 1).astype(np.float32)"
      ]
    },
    {
      "cell_type": "code",
      "execution_count": 10,
      "metadata": {},
      "outputs": [
        {
          "data": {
            "text/plain": [
              "array([[2014.],\n",
              "       [2015.],\n",
              "       [2016.],\n",
              "       [2017.],\n",
              "       [2018.],\n",
              "       [2019.],\n",
              "       [2020.],\n",
              "       [2021.],\n",
              "       [2022.],\n",
              "       [2023.],\n",
              "       [2024.]], dtype=float32)"
            ]
          },
          "execution_count": 10,
          "metadata": {},
          "output_type": "execute_result"
        }
      ],
      "source": [
        "x"
      ]
    },
    {
      "cell_type": "code",
      "execution_count": 11,
      "metadata": {},
      "outputs": [],
      "source": [
        "linear_model = LinearRegression()"
      ]
    },
    {
      "cell_type": "code",
      "execution_count": 12,
      "metadata": {},
      "outputs": [
        {
          "data": {
            "text/html": [
              "<style>#sk-container-id-1 {color: black;}#sk-container-id-1 pre{padding: 0;}#sk-container-id-1 div.sk-toggleable {background-color: white;}#sk-container-id-1 label.sk-toggleable__label {cursor: pointer;display: block;width: 100%;margin-bottom: 0;padding: 0.3em;box-sizing: border-box;text-align: center;}#sk-container-id-1 label.sk-toggleable__label-arrow:before {content: \"▸\";float: left;margin-right: 0.25em;color: #696969;}#sk-container-id-1 label.sk-toggleable__label-arrow:hover:before {color: black;}#sk-container-id-1 div.sk-estimator:hover label.sk-toggleable__label-arrow:before {color: black;}#sk-container-id-1 div.sk-toggleable__content {max-height: 0;max-width: 0;overflow: hidden;text-align: left;background-color: #f0f8ff;}#sk-container-id-1 div.sk-toggleable__content pre {margin: 0.2em;color: black;border-radius: 0.25em;background-color: #f0f8ff;}#sk-container-id-1 input.sk-toggleable__control:checked~div.sk-toggleable__content {max-height: 200px;max-width: 100%;overflow: auto;}#sk-container-id-1 input.sk-toggleable__control:checked~label.sk-toggleable__label-arrow:before {content: \"▾\";}#sk-container-id-1 div.sk-estimator input.sk-toggleable__control:checked~label.sk-toggleable__label {background-color: #d4ebff;}#sk-container-id-1 div.sk-label input.sk-toggleable__control:checked~label.sk-toggleable__label {background-color: #d4ebff;}#sk-container-id-1 input.sk-hidden--visually {border: 0;clip: rect(1px 1px 1px 1px);clip: rect(1px, 1px, 1px, 1px);height: 1px;margin: -1px;overflow: hidden;padding: 0;position: absolute;width: 1px;}#sk-container-id-1 div.sk-estimator {font-family: monospace;background-color: #f0f8ff;border: 1px dotted black;border-radius: 0.25em;box-sizing: border-box;margin-bottom: 0.5em;}#sk-container-id-1 div.sk-estimator:hover {background-color: #d4ebff;}#sk-container-id-1 div.sk-parallel-item::after {content: \"\";width: 100%;border-bottom: 1px solid gray;flex-grow: 1;}#sk-container-id-1 div.sk-label:hover label.sk-toggleable__label {background-color: #d4ebff;}#sk-container-id-1 div.sk-serial::before {content: \"\";position: absolute;border-left: 1px solid gray;box-sizing: border-box;top: 0;bottom: 0;left: 50%;z-index: 0;}#sk-container-id-1 div.sk-serial {display: flex;flex-direction: column;align-items: center;background-color: white;padding-right: 0.2em;padding-left: 0.2em;position: relative;}#sk-container-id-1 div.sk-item {position: relative;z-index: 1;}#sk-container-id-1 div.sk-parallel {display: flex;align-items: stretch;justify-content: center;background-color: white;position: relative;}#sk-container-id-1 div.sk-item::before, #sk-container-id-1 div.sk-parallel-item::before {content: \"\";position: absolute;border-left: 1px solid gray;box-sizing: border-box;top: 0;bottom: 0;left: 50%;z-index: -1;}#sk-container-id-1 div.sk-parallel-item {display: flex;flex-direction: column;z-index: 1;position: relative;background-color: white;}#sk-container-id-1 div.sk-parallel-item:first-child::after {align-self: flex-end;width: 50%;}#sk-container-id-1 div.sk-parallel-item:last-child::after {align-self: flex-start;width: 50%;}#sk-container-id-1 div.sk-parallel-item:only-child::after {width: 0;}#sk-container-id-1 div.sk-dashed-wrapped {border: 1px dashed gray;margin: 0 0.4em 0.5em 0.4em;box-sizing: border-box;padding-bottom: 0.4em;background-color: white;}#sk-container-id-1 div.sk-label label {font-family: monospace;font-weight: bold;display: inline-block;line-height: 1.2em;}#sk-container-id-1 div.sk-label-container {text-align: center;}#sk-container-id-1 div.sk-container {/* jupyter's `normalize.less` sets `[hidden] { display: none; }` but bootstrap.min.css set `[hidden] { display: none !important; }` so we also need the `!important` here to be able to override the default hidden behavior on the sphinx rendered scikit-learn.org. See: https://github.com/scikit-learn/scikit-learn/issues/21755 */display: inline-block !important;position: relative;}#sk-container-id-1 div.sk-text-repr-fallback {display: none;}</style><div id=\"sk-container-id-1\" class=\"sk-top-container\"><div class=\"sk-text-repr-fallback\"><pre>LinearRegression()</pre><b>In a Jupyter environment, please rerun this cell to show the HTML representation or trust the notebook. <br />On GitHub, the HTML representation is unable to render, please try loading this page with nbviewer.org.</b></div><div class=\"sk-container\" hidden><div class=\"sk-item\"><div class=\"sk-estimator sk-toggleable\"><input class=\"sk-toggleable__control sk-hidden--visually\" id=\"sk-estimator-id-1\" type=\"checkbox\" checked><label for=\"sk-estimator-id-1\" class=\"sk-toggleable__label sk-toggleable__label-arrow\">LinearRegression</label><div class=\"sk-toggleable__content\"><pre>LinearRegression()</pre></div></div></div></div></div>"
            ],
            "text/plain": [
              "LinearRegression()"
            ]
          },
          "execution_count": 12,
          "metadata": {},
          "output_type": "execute_result"
        }
      ],
      "source": [
        "linear_model.fit(x, y)"
      ]
    },
    {
      "cell_type": "code",
      "execution_count": 13,
      "metadata": {},
      "outputs": [
        {
          "data": {
            "text/plain": [
              "<matplotlib.collections.PathCollection at 0x7b82602752a0>"
            ]
          },
          "execution_count": 13,
          "metadata": {},
          "output_type": "execute_result"
        },
        {
          "data": {
            "image/png": "[encoded data removed]",
            "text/plain": [
              "<Figure size 640x480 with 1 Axes>"
            ]
          },
          "metadata": {},
          "output_type": "display_data"
        }
      ],
      "source": [
        "import matplotlib.pyplot as plt\n",
        "\n",
        "plt.plot(np.arange(2014,2024), linear_model.predict(np.arange(2014, 2024).reshape(-1, 1)))\n",
        "plt.scatter(x, y)"
      ]
    },
    {
      "cell_type": "code",
      "execution_count": 14,
      "metadata": {},
      "outputs": [
        {
          "data": {
            "text/plain": [
              "array([[89649.72607422]])"
            ]
          },
          "execution_count": 14,
          "metadata": {},
          "output_type": "execute_result"
        }
      ],
      "source": [
        "linear_model.predict(\n",
        "    np.array([[2030]])\n",
        ")"
      ]
    },
    {
      "cell_type": "code",
      "execution_count": 15,
      "metadata": {},
      "outputs": [],
      "source": [
        "import torch\n",
        "from torch import nn\n",
        "class Model(nn.Module):\n",
        "    def __init__(self):\n",
        "        super().__init__()\n",
        "        self.lstm = nn.LSTM(1, 100, 3, batch_first = True, bidirectional = True)\n",
        "        self.fc = nn.Linear(200, 1)\n",
        "        self.act = nn.Sigmoid()\n",
        "\n",
        "    def forward(self, x: torch.Tensor) -> torch.Tensor:\n",
        "        out, _ = self.lstm(x)\n",
        "        out = self.fc(out)\n",
        "        out = self.act(out)\n",
        "        return out\n",
        "    \n",
        "model = Model()"
      ]
    },
    {
      "cell_type": "code",
      "execution_count": 16,
      "metadata": {},
      "outputs": [
        {
          "data": {
            "text/plain": [
              "Model(\n",
              "  (lstm): LSTM(1, 100, num_layers=3, batch_first=True, bidirectional=True)\n",
              "  (fc): Linear(in_features=200, out_features=1, bias=True)\n",
              "  (act): Sigmoid()\n",
              ")"
            ]
          },
          "execution_count": 16,
          "metadata": {},
          "output_type": "execute_result"
        }
      ],
      "source": [
        "model"
      ]
    },
    {
      "cell_type": "code",
      "execution_count": 17,
      "metadata": {},
      "outputs": [],
      "source": [
        "x = torch.from_numpy(x).unsqueeze(0)\n",
        "y = torch.from_numpy(y).unsqueeze(0)\n"
      ]
    },
    {
      "cell_type": "code",
      "execution_count": 18,
      "metadata": {},
      "outputs": [],
      "source": [
        "from torch.optim import Adam\n",
        "optimizer = Adam(model.parameters(), 1e-3)"
      ]
    },
    {
      "cell_type": "code",
      "execution_count": 19,
      "metadata": {},
      "outputs": [],
      "source": [
        "import torch.nn.functional as f\n",
        "\n",
        "for _ in range(10000):\n",
        "    loss = f.mse_loss(model(x),y)\n",
        "\n",
        "    loss.backward()\n",
        "\n",
        "    optimizer.step()\n",
        "\n",
        "    optimizer.zero_grad()"
      ]
    },
    {
      "cell_type": "code",
      "execution_count": 20,
      "metadata": {},
      "outputs": [
        {
          "data": {
            "text/plain": [
              "tensor(2.3585e+09, grad_fn=<MseLossBackward0>)"
            ]
          },
          "execution_count": 20,
          "metadata": {},
          "output_type": "execute_result"
        }
      ],
      "source": [
        "loss"
      ]
    }
  ],
  "metadata": {
    "colab": {
      "provenance": []
    },
    "kernelspec": {
      "display_name": "Python 3",
      "name": "python3"
    },
    "language_info": {
      "codemirror_mode": {
        "name": "ipython",
        "version": 3
      },
      "file_extension": ".py",
      "mimetype": "text/x-python",
      "name": "python",
      "nbconvert_exporter": "python",
      "pygments_lexer": "ipython3",
      "version": "3.10.12"
    }
  },
  "nbformat": 4,
  "nbformat_minor": 0
}
