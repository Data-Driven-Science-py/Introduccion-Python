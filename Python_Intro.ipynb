{
  "nbformat": 4,
  "nbformat_minor": 0,
  "metadata": {
    "colab": {
      "provenance": []
    },
    "kernelspec": {
      "name": "python3",
      "display_name": "Python 3"
    },
    "language_info": {
      "name": "python"
    }
  },
  "cells": [
    {
      "cell_type": "markdown",
      "source": [
        "# Data-Driven Science - DDS"
      ],
      "metadata": {
        "id": "5WNfFvxyXtLu"
      }
    },
    {
      "cell_type": "markdown",
      "source": [
        "## Objetivos\n",
        "- Manejar **Python**.\n",
        "\n",
        "- Entender y utilizar todas las herramientas de **Python** para visualización, manipulación y modelado de datos.\n",
        "\n",
        "  - Numpy\n",
        "  - Pandas (cudf, polar)\n",
        "  - Matplotlib (seaborn, plotly)\n",
        "  - Sci-Kit Learn (tensorflow, pytorch)\n",
        "\n",
        "- Machine Learning.\n",
        "\n",
        "- Poder incluir fundamentos de los sistemas que estudiamos dentro de nuestros análisis de tal manera que sea datos guiados por ciencia y no viceversa.\n"
      ],
      "metadata": {
        "id": "GM0GFF-oX7kx"
      }
    },
    {
      "cell_type": "markdown",
      "source": [
        "# Python"
      ],
      "metadata": {
        "id": "MQEWcS-MZkYb"
      }
    },
    {
      "cell_type": "markdown",
      "source": [
        "## Variables"
      ],
      "metadata": {
        "id": "kC1yi4Y5a1-b"
      }
    },
    {
      "cell_type": "code",
      "execution_count": null,
      "metadata": {
        "id": "NpaWS9R3Xscy"
      },
      "outputs": [],
      "source": [
        "string: str = 'hola'\n",
        "entero: int = 1\n",
        "coma: float = 1.\n",
        "boolean: bool = True"
      ]
    },
    {
      "cell_type": "markdown",
      "source": [
        "## Estructuras de datos\n",
        "Las estructuras de datos sirven para guardar cualquier tipo de información de formas muy interesantes."
      ],
      "metadata": {
        "id": "pATSbodZZ2uf"
      }
    },
    {
      "cell_type": "code",
      "source": [
        "lista: list = [1,2,3]\n",
        "diccionario: dict = {'Mauri': 1, 23: '32', 'Cualquiera': 13.}\n",
        "conjunto: set = {1, 2, 3}\n",
        "tupla: tuple = (1,2,3)"
      ],
      "metadata": {
        "id": "KNdhrMMiZ1cS"
      },
      "execution_count": null,
      "outputs": []
    },
    {
      "cell_type": "markdown",
      "source": [
        "## Bucles\n",
        "Los bucles son sentencias que corren el mismo código dadas ciertas condiciones, hay dos tipos de bucles:\n",
        "- Bucle for\n",
        "- Bucle while"
      ],
      "metadata": {
        "id": "UVPEVUDaa89Y"
      }
    },
    {
      "cell_type": "markdown",
      "source": [
        "## Bucle for\n",
        "\n",
        "Lo que hace el bucle for en el siguiente codigo es **asignarle a i** el cada uno de los valores de la lista (**iterable**)."
      ],
      "metadata": {
        "id": "iWJvSTCFbVgE"
      }
    },
    {
      "cell_type": "code",
      "source": [
        "for i in [0,1,2,3,4]:\n",
        "  print(i)"
      ],
      "metadata": {
        "colab": {
          "base_uri": "https://localhost:8080/"
        },
        "id": "bbJgwmKAbImS",
        "outputId": "c25b677b-182e-45d9-9843-a1723a4ea4d8"
      },
      "execution_count": null,
      "outputs": [
        {
          "output_type": "stream",
          "name": "stdout",
          "text": [
            "0\n",
            "1\n",
            "2\n",
            "3\n",
            "4\n"
          ]
        }
      ]
    },
    {
      "cell_type": "markdown",
      "source": [
        "## Bucle while\n",
        "Lo que hace este bucle es evaluar una condición dada luego de su sentencia, y mientras esta sea verdadera, seguirá ejecutando el código de adentro."
      ],
      "metadata": {
        "id": "aJwz4oGibzX5"
      }
    },
    {
      "cell_type": "code",
      "source": [
        "i = 0\n",
        "while i<10:\n",
        "  i = i + 1\n",
        "  print(i)"
      ],
      "metadata": {
        "colab": {
          "base_uri": "https://localhost:8080/"
        },
        "id": "ov2fVF7RcAW6",
        "outputId": "6edd92b9-390b-410f-ff0c-6ee5579886f9"
      },
      "execution_count": null,
      "outputs": [
        {
          "output_type": "stream",
          "name": "stdout",
          "text": [
            "1\n",
            "2\n",
            "3\n",
            "4\n",
            "5\n",
            "6\n",
            "7\n",
            "8\n",
            "9\n",
            "10\n"
          ]
        }
      ]
    },
    {
      "cell_type": "markdown",
      "source": [
        "## Condicionales\n",
        "\n",
        "if\n",
        "elif\n",
        "else\n"
      ],
      "metadata": {
        "id": "YEFdHNVUrAbL"
      }
    },
    {
      "cell_type": "markdown",
      "source": [
        "## Programación funcional\n",
        "Una función es cualquier proceso definido al que le das una entrada para que manipule esa entrada y devuelva de esos datos manipulados una salida."
      ],
      "metadata": {
        "id": "qlS1DMa4cmi9"
      }
    },
    {
      "cell_type": "markdown",
      "source": [
        "![image.png](data:image/png;base64,iVBORw0KGgoAAAANSUhEUgAAASAAAACvCAYAAABdEgM5AAAABHNCSVQICAgIfAhkiAAAIABJREFUeF7tnQt4VNW59/+TC7mTEBIMELkZQDBFBAWJ3AkqclGoip72nAo99uKhtfa0/RRPv3NOq2h7aC3ix6m1Cu1RsVZACwpaiiAQuYQcApT7TW6JJCSEhIQkk8n3vmvPnuzZmUxmQrInM/Ou5xkls9esy2+t/V/vetfaa9siXixshAQhIASEQAAIRAQgT8lSCAgBIaAIiABJRxACQiBgBESAAoZeMhYCQkAESPqAEBACASMgAhQw9JKxEBACIkDSB4SAEAgYARGggKGXjIWAEBABkj4gBIRAwAiIAAUMvWQsBISACJD0ASEgBAJGQAQoYOglYyEgBESApA8IASEQMAIiQAFDLxkLASEgAiR9QAgIgYAREAEKGHrJWAgIAREg6QNCQAgEjEBUF5sjYJlLxkJACIQ3gai6RjGCwrsLSO2FQOAIiPoEjr3kLATCnoAIUNh3AQEgBAJHQAQocOwlZyEQ9gREgMK+CwgAIRA4AiJAgWMvOQuBsCcgAhT2XUAACIHAERABChx7yVkIhD0BEaCw7wICQAgEjoAIUODYS85CIOwJiACFfRcQAEIgcAREgALHXnIWAmFPQAQo7LuAABACgSMQFbiswydnR4Rg7mytHeGwd7YihWV55M7o4GZ32OuAU3s6OBdJ3l8Cjh6ZiEi+wd+fSfx2JiAC1M5Ajckpy4fEZ8/4+eiV1oEZSdJ+EaitBcaseR5F3WYjwlHv128lcvsSEAFqX57NU4uIxsAbgaSuGc2vyTeBIWArDky+kmszAiJAzZB04Bdy+GQHwvUj6Ug/4krUDiUgq2AdilcSFwJCwBsBESBvdOSaEBACHUpABKhD8UriQkAIeCMgAuSNjlwTAkKgQwmIAHUoXklcCAgBbwREgLzRkWtCQAh0KAERoA7FK4kLASHgjYAIkDc6ck0ICIEOJSAC1KF4JXEhIAS8EbBUgPjZKHky3FtzyDUhEF4ELBMgfip88Mb/hO3UTjhq6kmIokWMwquvSW2FQDMClgkQauz4/ax3UfHQfPwpJhezDy0C9m+C4/JlpxhFNyucfCEEhEBoE7D2YVTSmKRu6Xh4GujzMSrL30ThMeCNgjlYXjMWjl4jgdR0RVyOSQjtjie1EwJMwFoB4hwb6FFk51PhfETF2FEN9NmKJeWrlRh9fHAUXi+7H0W9x4oYSR8VAh1IoMkfawOuVgN1ZZYf0ma9ABmBshA5tLMRlBiRATR21Cn8e/Wz2Hcc2FjYH6+efQAne04CMrOcv2wk60iO0+zAfilJhzABTXRIcOoagKpS4MIePJG4CVMG7MJLnwzFttxlls4+LBWg+FgvLauflUOCFBWTgRG3ACOGVeEnjpdQcOAlbDmQifeKH0Be7Gg4+g4HurBwiRh5ISqXhIBzoccpOPW1sF3cgxn2nZiU8iEmZJ/DsJk0DYrX3B4f/D0B2yxmZqkA+Vw3gxgBuhjV4inHKygufgXrCwZgzbGpWOsgMcocBiTEixj5DFcihjoBNyvn4gnklH+Cyam7cM/QXbh1Avlhk4lABIlOg/OUTj6VNposogCEzilAZhCuqVoGMugc8XkzKjHP8SqJ0avYczQVqw5PxIqIGXCkDgHiEsU6MvOTv0OagPu0qgw9z2/DtG5HMDb5A4wbV4GsflT9KIPgsNZ40JvEOLKULA7BIUBGKCYxmt6rAdPHr8aSCs2Jve7ovfjjxXEo6jMZjmSWellRs7hPSXYdTMAlOJxPRQVsZYcwI2I/JqTS1GpInjatYneHbuXwPePD2ftVNY0dXPLmyQefABnrYBCjpK7swOYVtT14rnoDdhwANhzNxdrKydiXeheQmCqWUfP2l2+ChIBLdHi1qvwLDLt2ANOSPsOMQRtw6xSaViVRRXywcrxVVywgb3Rau2ZYUWMntraiVojn7BtRcBD49HgO3jl7N/Lrh8AxYKiIUWs85XpACZinVbxaNT9lL6b32YCcUReRluJ0Hut+HB+tnIBWykPmllpAXdlXbEUwOrEjdCf2MfyrPQ/FF6Gc2MtO/JOIkRVtIXn4TIAfT1LL47RahbOHkVO/Ff886COMG3kS/Xi1yjit4lR9mFb5nHmAIloqQAGpo2lFrcmJ/R+orAA+K0zFBxe+jtcu3SWWUUAaKHwzdV+tOgVcPo7Ffd/DpCzy49ztQXBacB4HM8HQFyBz65j8RtMnkhMbK/Gr8pex83Aa1hy4E8sq7yExGuNc3hcnthmh/N02Am6CU1OlnMfzojdjTv91yJ5Yhr59KV3j8ngICo6ZXPgJkJGAwW/EO7FzxzTQZydeLF+HQvIbrTw4A39rnIIjySPksRBzz5G/WyXgJjg8rSLn8cyaDzGtTyFGD9qBYVn6JkDaVMu+nDAQHDO08BYgL2I09k5aVbtrJ2Bfp5zYr++cgW32HOyLzQZ69Bcntrknyd+KgPLjcHCuVt1eW4B7Erdh6uBCDB5Vggze+2feBKj9IuD/TYqz/hEn6wSooS7ggH0ugEcntiZGx08Dfz18JxbvHqOeUXOIGPmMNRQjmlerBlcU0PJ4PoYlfY7JE0+i741Ua7U8zo8OhaeV463drROgyC7eytF5r5nEKIuMn6ysE3h88g6cvvASth52PhYSNx2Obr3ksZDO25LtUjLzJkAUH8LMiJ3atGqIcVpF2fG0KkiXx9sFlg+JWCdAwWQBtQTOIEa810gTo6bHQtbvSMaq/ffhQ+Q4ndhyyFpLKIPpe9e0ipfI6dkqfRNg7k35GD2l1POzVcFUwQCW1ToBokpGaydvBLC67Zi1p+X9OQ2Yh4100NpKrN+Rgg0nJmP5gWTYontTxh4evmnH4khS7UfAPK3SNwGOTd9mmlbx7SPTqushb6kAXU9BO/1vTStqD09rwMPYipergnTq2emBt18B3aZVZSWwVZzAmKoCzOlX0PRslfPICplWtR93TkkEqH15aqkZxCgxpgFVtU2nQHZEdpJmGwnQlMpRT9uJaXmcV6umJO5Qz1ZlZZJd04lXq9pY21Z/FoVQXgVrtfoSQQhYRICWwbt+WYi5PQ8it+d6jBxV1vzZqjDck2MRfbdsrLOAqum5BwlCoDMQqI/EzyZ+Qi9G4EUC5yZALlcIPFvVGfD6UwbrXsvjT6kkrhDoYAJRXZy+ORIjtVSuLyp0cL6dPnle6bMwiABZCFuyEgKdmYDNfsW5w9+6UooAWcdachICnZ9AKFpA2jJn52cvJfRCoL2GqvZKx0tR5VLwEGiTE5oFpS3v5oqJ8QCGO2RUC4dh2+mMWl/n5nrH9jW+h6I0+4rfFGAjRP6Uo1ki7fCFJ0aNtGRqeMmjeqsBl9UYzHH0a3p6XC8OzJ/jsj/EGDhepDPdOorbxUM8T/nqaejczPl5Sod/Y47H5Qo0e3ciLf9l7Cs6M1/LrtdbbwMjB0/9ubXrLZfS65WoRuuf1/RbgOae3YeUhnq82m+keueQr0Jkqy9FQpyp/gTy+NlGvPFBpUcwk0fFIXcUFdFTIxh/wQ1CcQ6ctiF7gB+i5TFX55fUod5dX4+9R6ux8JspSIyjG7G1cnhLr63XqG5bChrwcR6dBWwIA2+MwkN3J2rlog7/4eYGbC90j5Oe3g0jBtZiwginsHD5Kb2qmkgsXVmBl96tQ0lpHabmJODJh2IwfRKxZqHhwEwpMIPF71Rj976rKt535iRgTq5TGOj6C6/VoLK6+WHmV+mA8+cXdHNxW76qGv+5vBZfnLuGO4Yl4Lv3R2He/dQhdKbE+/jpCCx95wo+2O5Q8R6blYhvTq/C2NE9m8qlFatz/ZfKvmU3sOTtMqzZXIsh/SLxwMRY/PBrSUjrRkX11m+Ic2k58PPfV+CuW7vg4fuisDGvHmu3VON7jyQh60Zibfy9If7MCfG+3R8+0uqR7u3FfT4m4mc0Zzfz7VcsOH3pXJOXfzsfR1+fj+f3roXDXtd0BIFvybjFulYfgRdWXMXh03ZwpzV+amuJPI8m5mAstbNBkqZcwtrNJGSerClzLflv83d6Hvo1sia2F9apsl27ZiiDfr2l35vLer1/U/0vXbGpchSV2RQfZjX/5xVIGndedV62fPYd08qqx+F4S1aWYuK3SrDwFScXnRX9buGyKvz26RRs/l06eqfZMOOpMrz7UY1m5TjLPOPJMsxdeBm5dBzS1leh4n31Rxex8DfkrGTO9Fm9uV6Vzdx2V2qcgCjOwmWVqry/fCJW5TdmSKP6+8OtNOKy5UBRq2jH+MDZX+KNj+pd8c6XNmLctwEWL2V9dcZAZWfxYc7nyqJU/Z54MEExGf94CRBrKrfefwx1uVzViJf/VI0T58gKdZoELn7GOjuRFpfbVPyzRbRvwNjfPaTtD7JY0HnFfG7RdQR/3S0eLaCWE7GhIiIC11JTkVJTge9v+CW+/dnv8c7oR7Bg0HigGz/zxCcI+r+j8mdPpCKbzop324xpNkmdUwq+6dTI4gzcIFWV9UiKpxGVa8TZ68JF0xS3+PR9aalmEag0OJ4+9eCbgf5dSluW0mjQTTC/J4lvArIQ+HpsbCQSk0ggfTWzm4rb5n8t/XEyErtpw+HqDQ1KDNZ+VoN5c5sO23bFIQZLKKehD1xUN4Oy4ui3P16qWZssKGPvIg71dkzIScIg2v3LYjNiSAy9R8qBA8ei8OH2OvxpUQoenkVc6+PJEtG6ywsrqrTRPd1G2sff1WLJv9JrScwiYSeeVA7On60ZLR3Kb1QyDp214b1P68jqotc5UBLf+y9tn9ip1d2RRunylHDCHfG4+1+gxGrciNjm1kCbSbbjD1mE/3ZVJfjRr8jiobJPyNE4fW/xFVSVR2hWIEfw1PfUMR2GQLxyc6KRO572KFHbqL7JwuL8bRq9aSo22mRSOYVJDUYUXPeGN8vLLdPr/4M1gw2SysQ0/HLAHT7PjqJ+cnI3Fr7/U1yNM9zRrZSnNp5ecUNB//8/bX0d/MkbPAl/GDYNK/vSkEmhLULkljU3DnVqHgGXrbqGxT/oiocWlqlpQ9/MWOQvT1EN/kMekSk882oNNuXX4o8/T8Oc/1OJWTmROHbWrkaLkr9qb4Ec/3gZDp3WLJr0tC7486JkmqLQj6mBeboxdyGNWhS+Tzc13ySuQB2NLQS+SfUw/a4ueOfFdGunZ9e06U6/dBqtKHD9jIGttcR6qh+zo9E3IZ5vhgbNiiuPxIq/VKmp1NjRJBhq6kTxGhoxc2KSsoo2bK/BgoEJ2LxLu6keziWznPOkV2YjohEscErk6BETr4EHC07bGXbuI+uqml8aSeWha5+8TMLDNwgJON84XK5FTyRq4qOmgfRbGhCefSwef827irV50Xjqa5SnPkX0mnlgLn5W6MCce6ncJBwLHonHgod5YNA4savh0WevIP+gZmG4+t4o7mOGKSzh4cHl3165hL+8lEaDgTY1/Yd/16bB3O/nzbmZfvOlq5JfnCnGtB9GuvXr1c/X0ZthnMeBWILDhr6VJZj79tN4dEgO1t02C88OnULtneD1XfNKO232WmrrOp8/5vrUUSb8yTnyKX638klsWf1TPPpFgYrWsjXlnsprqyrwCo2UL/yu0vVhXwUHNu+54X5EQpP3WjfVUdlH8Ou3eGoBTBquCcXUkRF45G7N0cSdlkegs182YN1LqWTR2PCt58tVI+1/tyf2/AFKyL67qEzdqOx/YHG5fWiMus4+Fk6DA1s7pSWN6jqP5CxmzzyWoCyELfl0Y3maJrpXr/3+YpOePkVl2iDQK63pJudM9h6zK+vlwEmb4sncWHBYqE8XaUOizstYqIxu2k2w56gWh4WcfTXKqtFHUvo/+8KUP8wU2Coytt0rbzlNeRJuZsXce9xXpqZv23aRyHOahikFJ3dTpiZOrqRJRG/pr9Vv35Em4TfnHdC/SUDnTCFOFNginbewkiwimzY11i1CYvCTJZdVWxxbc4OaznLfe34FTS01Y8mtChUVtYoXuycQHUXCdVn54FYt7oF1v+6G5asPN8Wn3z++WOPL/VZP+6kltOJjnJ75ACk5rsotlnKv+PiJcGjbyGt69ETvyotqdnTl5Vl4kwwTzU0T5VELPFTfh5K2EIVFiBXvtpOf4487VuPf+t+CJx98ARvTb0JjlXYzt/BT5O1vUGKhh6q6KDw+mzp7UpMVsvw/UtUZPN97NFmN1uzv4PDQ1AT19+TbY5SZX+U0RXmUWf0bulF5NKbRXv2bp0xU69KSDHIWluDsJe0u4JGfA+eRPQg0HUxQ1hQ7FdmqYLO2cS/NyzhQeuwg56kF+17UNMI4immx2v2/z75SrqaFXG+2GDg8dj/lbW+ytac+UerKNzEpGkt/1FWLQyscl/y4h8+SgWVeVFMJt2DWs7+sS3RTWyV3dZ6FRLwXLUgCCyUPCC+sYF8VJ1Ssbkae7rndhSrTJouAxZ9DxZVO+pwEFX8CLZSw74cHSG4XvW14oHzmW9Q+ZLU19T0bUhIzaKArdw5wZIl6CaVF2uDLFrmyrqgr/+H/JpHP6Zr2K7K2PllGadgpHzJWS4u0fl1CfkPV1/0I9rqmVTA2HF753z/j26ueQ12Sbyc6NMR1V4YIB312NGvn26jcvhx/Hf4A/jxkUrPZUbsKEGccU12GkzfcjHW5TzpNMN9eBqZufLMPyARQzX3tNpf5X3JJA6ZGCj0YZiRjs503hHMezVbMa2uq8D80lUrsGqtGmXSnBXGhVBM/PQ+6/XBzP8bjHMnJytmY14i3NlzDpwV2pHfVGjcp3pB3Uyk65F/smLxCOtk1zuESFs0aabrx+aZOSdSsPXZW33tXnNNXFYnuKVo8j6tWlcWqzJw2h6l0U7HAqo5tDh6qvG4JiTtbZ8YZIU+XOC6xW0BW0CP3xCsLjRnyTTrrqVIcXNfD3adhmrpdKjmvcncJmrksneFv6qcsQrvfTsWBo8DbH7HQkt+NBsXHZ9O0Mo38jiWRymJ/f/M1NS3+4qJv4nDmgtYuGd0JJLOlvHqnGxqABNtTv+6b2cbD8Ows9NpvGyNjwBaNLiptQa0bJbkH1uOe3W/i6czb8eLk7+JPNw5TyamaxJaVKeHw5dOlrrklw9/x52RaPzz/4C9x2zf+G88On4mIqC4++4Hqaoo0pxuLjv5pYbT1GwTXktLqP+eSWrX57LV07Hq7q5qa1NTqQtJ0E6spFWmPbmHxKMwrHWxdTLuTpjcru2P9Et99Zn6Xt4UfsO9l+aIkLHkmGQu+FuPR98Tiw9MtduqzwPLKEndQDv16ah2XbwJlFer9mOp7upTOLaYwfJDW+W7P1kYy9l3oK1XKH7e2BqPmV6rtE26B24p9Rcb2o/TZv8PseCRnKzJ3DKVBdfj1jzM1nwX9JiNNGwfZiuIphyvQFGLnYXoFKIXxt9Lor8Sp84WCvxdjyy6tbLwNZBFZnTwd4sB+IfbHpU8tJmu5Hrv+JwO7302Fa3BspTp9emm+SzVoMBpqK7cBl0TeU79uJVnLL7MQ1ST3Qf9Lp/DH//ePeO+TJWpqFvVi9z6o+M4bPhforvN/B5tVnKAuRhuzp2HZyAewqXtfl/fbXwd0NVuUxo11PpeoKWJlNTW26qTNTUZeueKVsht7xKgb4QC96YJ9PDxN46A7YZe+U6lWdA4c0xyjeuonz2rW1g1p0cqiWPGB+56bNhS3bT9RDmH+qbvvxy0xEoHsoZrvhUfiHy+twvKfJalysz+Gv1u+uk5bPWNcdeScXqdN6WaOJx8a5XH3aE2IfrC4HCvIOlXMaHTnFSkOGfxuYMN8jM88arZXigSIVyh5iZp9Zyw8sNNdRHmePkO+N2fgcvF0hS0GtbeFV4AosGh98wVtwFPlau56cqURkH84B7aR3+DcS7Qp5UBN1S9d1gSpR9JF2nelrQ6nd++i2uD4MYea2vsS1Ioghbc3NtDKI4l4ciR+9WbTvrmW+jXvRepMQdcKXqha/I1HlFuGNSIqIvkG/Ldz+bz1Amsw5l4swtW+Q7Fh9P1YcfMElRgHTrBF4bF5n8NP+1E0buxOzklnqLZHY9KIKK3TmgqmDviiUNeodVTdgcodmKdXPMpwYD+SCnTD8g00e2KManjb7cVqsxivYrEjmf1D2QO0lS9eMeMPC1Nsr164duGCSoKXgckToW4mvqaPYPrUTcuoY/6rz83VCpd5M6czy2bTKhKRRU8kYemqOjXdeWxGHC1rQy3H5zuFZO/RerBp/+pf7Mqpr5z13OFpVE1MrFN+DVVfGr2ZlzZl7YJNy7qr6zwkV13RfBHZj15CfFRTG7Nv7fPX05Q/jcWHy8B+HPbTbfj8muL+xk9pTZmtTXskCWOisk7ZymR/B5eL25ODKhdNY5rt1O4Y3L6nygMBrdTxVgVeoGBrk4X06LmmwUutRJFyct9jBjx9Z07s4GfHsqfAiy7GYGwH/p756IHby9iveRGFLXu1gMLlc4qkp3xa+87WUIs4utdttO3GW4io19rJ6APS4/Os6kxyT3zawlYdW8SLhSZbuuWs2DHFq1vZ5edd/p0WBceQjFoJO/Ax6r/9Q/Bh7q6B02mib9rtdKiZsk5NiVJ7IgoKi1B4PLlp5y+BfXcjzaXjIjB9IokRWU48JSg4VAu2UEYO6YKPtl6F+r2+k5ry4lW1HftrwRscWXyOn2/E1oJr4NFV3zuxbU8xLlb2IJM/Qo3eB4/X4L5xCeqG45WyfSca0Z38Pzzn//BTbRSbPo6sKGWVeA7KOmht2drzT1UH0uumyuFpRzbF4XJfuJSilVWPY/gtczHuiGYB4H04LArs6/qH+7oqsXBb5qabizcI7jlUhy9L6xXbCcOJt96p6f+8mfBqjefKT74jVuNKl/X82G/Hq11q1+/dJOr6T53t8+dPqmja0qDKdcfQaM2H4hTFlhC15fvVn9GS+RTq+ubHT9qSGE1Ndd8P+93YXzVyEK3Iks/LuCdnY769Wd+bN5MWTah/cL0HZlZg7Kh0tYq5e391U78kkea9a3yf9Op+GWNvy1D9P6s37dsalq7aiPt1GVld3EeKS+3u/dpz87jX1Lnzf+7V9YhI0gTOUfElcu2e701PmJ7Y8z7Y18MhsuYSTqcNxPtj/tGrVvglQHqmLCi+CI8xvkcB4gjcmVtaxtanZHoc4xSNNw1y0DuQMQ5/z2map3TGvPiap3je0vF0zVgGLcVm/70uAeLUPNXfnEtLcTx9r3/HK048ZeX/s+/GU0fluBx0nvxvYzy9Hczl4b/N7WfMj/M13/z+lMtTfn58164CxPly2XnZW+fJ3xmZ6nXj7819j78z9ldvbWb+LbeFt7Q9tSnnZw4eBIij+LqNhhdteMl99ualyL9lBn47crZyNLemFQaPn7lELf/tj/i0nIrzCgPiTW7egqc45s5rjuMpTXMcztMczxzHeN3bNW/lv95r5nw9pddSHE/fu75j45fZezGCOS4HMye9DOZ20L83/t9jfh7a3GM8Twl2wu+47PoGSk88PbaDgYG3fqb488ef+B74toKNZxQwzQp9vddZaA70HIIV33mPXDJZlFOjd5eMsyxtEqBW6iGXhYAQCDMCLFQvZo1RtdY3JfqCQATIF0oSRwgIgVYJ+GotGRPSZ/itJi4RhIAQEALtTUAEqL2JSnpCIEgJxMRYLwfW5xikjSPFFgJCoP0JWCZAgxNsoCczPC/1tn+9JEUhIASCgIBlAhQELKSIQiCsCUT7eXxHe8ASAWoPipKGEAh2ArTBMbKx6VEoq6ojAmQVaclHCAiBZgSsFSBrc2tWWflCCAiBzkVAJKFztYeURgiEFQERoLBqbqmsEGiFAJ0Nb2WwSIAMpw1aWTvJSwgIgU5NwCIB6tQMpHBhSODISTrR0kGrPnycCH/kTghIL7AMe0yD9taJgNQyEJkyWf0TiPwlz5YJRBZj4an5sC35NZ5+cyQ2ft6I4i/p8HcbfXQxsuzOaLmY4XBFnoZvr1bWOywfLEUjKx8kd5pOc926TzvJ0XWKYHvlJ+lcF4GeaTegKPte/AL0OU/nXP/vceRc24n70z9EzuBTuHUgkEQnxiKCDuvXDwHTz0a6rpzlx0YCIkBt7Q8mwamkPlxIB9kfvZSN7cXT8EY5HcDcm149UnICD9bPB+K0c6rbmp38rmMIqLNr6AhSR/II5GEk8uroZfSn6MD87XswP2UvpvfZgJwhxeAz+KPiRYzauxVEgHwlyoKjHx1LFk4xWetHzqfj4Jc3Yf2ZOVjrGA3w4fyJdIB3Jp1Gl8mnDJLz/dIZX3OQeAEk4DrLhu+IlBQ4Uu/BG2QdvVH5feDjC7i9tgBTEndgxqANza2jELGM4vm9CxYHESBPwI3WDV+3l+AL0pFjxWnYcmQANpXNRV4sCQ690kgJzkDtWFOtE1NvdGg90vfzdD0VQr4LJAGXIMVFw5FwE/KRhfy6r+IXp56Bbe8JzLDvxAP9t2PKzQfQ90YqaRRZRxzM55AHshJBkLdlAtTFZu3+Ar/YexCc46eBgmMpKLh0J9ZXjse+2Gwy1amTpSfS1Mqz4PiVp0QOGgLNraPRWIs7sbZuAbD5FHqW78fspM9x38A8eptKCZK6iRj52riWCZCvBbIkngfBKaAXFRaeGYCt54Zjec1YoNdIes80vR20WwxwQ6ThnNsmC8eSskomnY6AmyD16ouizCwsq5uFZZfpNU1v7cPM2P2YlvE5RvfZgRE0bilHNodgsI6qyZlJU1CrQngIkMlhzCtU+44De89nY92x4Vhjp+lUn9vJUUzWzU1G64abQQTHqs4YrPkoRzbfSVE0XRusW0e08HCUXti3MR8/6LkDuT3X07vCSpDBaxGysuZqassEqGeU9krfDu9kZuuGHMa8QlVwPB35ZwdiS9nXsbbmTmDAUK0oQ2Q61eFtEkYZuFlHvLr2lSn4Dehz9Wlg1UHk1G/F1wflK+toWJZzZY35hOlSv2UClBHvfJFge3dGk+DYq0tQehnIO9QDBUXD8HHVWOTHjAAzPwE+AAAFl0lEQVR69KcpFWXe12ThOB3G7V0sSU8IMAHXK2roTnPcnE1L/V+hpX66F9g62nYc8yLW4N6+m5TvKNBL/V2b3vhsWeNZJkDtViMP0ym14e/wAOQXDcU2e47mMGbBoffBs/9Gf0maKoMITrs1hSTkH4Fm1hHtPVpOe4+WsyB9rDmzv5n6Ae4Zuqv5Ur/qu/7l52/sRBaghNhW32bqb7re4nd+AWLBMey/4enUsbPAzjN3Ir9kGrbX34Yj0TdpFk4/FhsO2lsZ1T9FcJxM5H+djYAnZ/ZzmI3nzlTQUv8hzIig1bWMDzDu5pPo18s0XetgMbKKlWUC1FBL8yLlfPNSNbP/hvbfVF4hsTmchsKiQdhSPAfrokajMZkER9/w5xIbcRZ7ISuXgoCAa7qmdmYbnNlbNevo3vg9+OrNmzVndg+qEO89amffke3yOTR2620ZLcsEyGONPAhO8UVgz9FUWg4fha0Xs5DXhfw3mfRIQww5cFrY8OcxbflSCAQxAU/W0XKyjpZfpqf43z+knlub068Ak7Lymjuzg8g6sl6ADFMqdhiz/4Y3/G05N1bz3zTSttJeQ1z7b5qmU2LhBPH9JEW/TgIu64h3Zg/Un1uj6cSeU8DfjuNR21ZM7bMJk2+raNqZ3QbrqNEefZ0l9e/nlglQTUUldMFZ/Xl/HLGPw/rywSjq9pUW/DciOP41pcQOFwJm68hBGyFX0nNrK9mZTTuz+bm1e2M/Qu4tpzAii3Zm+/hUfy3towTvabIwWCRAjVjZOA4rXx2n7TBOpeenupDDOJNr6nQYi7PYwmaXrEKJgNtSf6bzuTU8jOe+oBWbnYcw27EJMwbuxfDeBzrddM0SAWLFdmTfo9pcU2+xbkLpBpC6dB4CLuuIi+R0Zq+h59bWXCXf0R56qj9Pe6p/XOYud2c2RWc3q9XBEgHiSrmBsbqWkp8QCFMCrvuOfEeI64v8CHqqn6yjX5SSdXRQO4TtwYz3MSH7XEAIWSZAAamdZCoEhIAbAfelfsMhbOzMLv+C3CKZlhoLIkDSQYVAmBJo7sy+yVLxYez6TpwwbQKpthAQAjqBQLhJRICk/wkBIRAwAiJAAUMvGQsBISACJH1ACAiBgBEQAQoYeslYCAgBESDpA0JACASMgAhQwNBLxkJACIgASR8QAkIgYAREgAKGXjIWAkJABEj6gBAQAgEjIAIUMPSSsRAQAiJA0geEgBAIGAF5GNUC9HF8zgq/2UN/aYcFeUoWXghE9/RyUS5ZSUAEqINp26Lq8V9vJSI2IQCnPXVw3YI1+WtXL6PIFkfFbwzWKoRMuW0RLxZKK3RwczrsMtPtYMR+Jx8RFUSvjvC7dsHzA7GALGgr6ewWQJYsgpKADM1B2WxSaCEQGgREgEKjHaUWQiAoCYgABWWzSaGFQGgQEAEKjXaUWgiBoCQgAhSUzSaFFgKhQUAEKDTaUWohBIKSgAhQUDabFFoIhAYBEaDQaEephRAISgIiQEHZbFJoIRAaBESAQqMdpRZCICgJiAAFZbNJoYVAaBAQAQqNdpRaCIGgJCACFJTNJoUWAqFBQAQoNNpRaiEEgpKACFBQNpsUWgiEBgERoNBoR6mFEAhKAiJAQdlsUmghEBoERIBCox2lFkIgKAmIAAVls0mhhUBoEBABCo12lFoIgaAkIAIUlM0mhRYCoUFABCg02lFqIQSCkoAIUFA2mxRaCIQGARGg0GhHqYUQCEoCIkBB2WxSaCEQGgREgEKjHaUWQiAoCYgABWWzSaGFQGgQEAEKjXaUWgiBoCQgAhSUzSaFFgKhQUAEKDTaUWohBIKSgAhQUDabFFoIhAYBEaDQaEephRAISgIiQEHZbFJoIRAaBESAQqMdpRZCICgJiAAFZbNJoYVAaBAQAQqNdpRaCIGgJPD/AQAhwfU89OHsAAAAAElFTkSuQmCC)"
      ],
      "metadata": {
        "id": "ELM9K3LUcivV"
      }
    },
    {
      "cell_type": "markdown",
      "source": [
        "$$f(x) = x^2$$"
      ],
      "metadata": {
        "id": "c8pcGHGxc0yw"
      }
    },
    {
      "cell_type": "code",
      "source": [
        "def f(x: float) -> float: # def sirve para definir la funcion f\n",
        "  return x**2 ## **: elevar al .. *:multiplicar /: dividir %: modulo //: Division entera"
      ],
      "metadata": {
        "id": "48vqDNwcZ0jw"
      },
      "execution_count": null,
      "outputs": []
    },
    {
      "cell_type": "markdown",
      "source": [
        "## Programación orientada a objetos (POO)\n",
        "\n",
        "Como sugiere el nombre, básicamente sirve para crear objetos materiales que poseen **atributos** así como cosas que se pueden hacer con él (**métodos**), también todos se construyen de alguna manera (**constructor**), y así hay una larga lista de cosas que se pueden hacer con los objetos de la vida real, pero nos vamos a concentrar en lo básico."
      ],
      "metadata": {
        "id": "4DD-nrmSdsKR"
      }
    },
    {
      "cell_type": "code",
      "source": [
        "class Mesa: # 'class' se usa para crear el objeto Mesa\n",
        "  patas: int = 4\n",
        "  largo: int = 5\n",
        "  ancho: int = 2\n",
        "  color: str = 'marron' # Todos estos son atributos de una mesa"
      ],
      "metadata": {
        "id": "DVTwwMhfdxDw"
      },
      "execution_count": null,
      "outputs": []
    },
    {
      "cell_type": "code",
      "source": [
        "# Y podemos acceder a los atributos con puntos\n",
        "Mesa.patas"
      ],
      "metadata": {
        "colab": {
          "base_uri": "https://localhost:8080/"
        },
        "id": "REIlhaw4fjAU",
        "outputId": "cfb1f124-1f50-4781-e6fc-267159409a62"
      },
      "execution_count": null,
      "outputs": [
        {
          "output_type": "execute_result",
          "data": {
            "text/plain": [
              "4"
            ]
          },
          "metadata": {},
          "execution_count": 6
        }
      ]
    },
    {
      "cell_type": "markdown",
      "source": [
        "Pero no tiene sentido que exista nomas, tiene que ser creado de alguna manera cuando yo quiera que se cree."
      ],
      "metadata": {
        "id": "0m3RLT0se4DV"
      }
    },
    {
      "cell_type": "code",
      "source": [
        "class Mesa:\n",
        "  \"\"\"\n",
        "  Utilizamos 'def' para crear una funcion que al estar\n",
        "  dentro de un objeto se le llama metodo. __init__ se\n",
        "  utiliza en python para sentenciar al constructor,\n",
        "  ahora siempre que yo quiera que se cree este objeto,\n",
        "  el constructor lo construira.\n",
        "  \"\"\"\n",
        "  def __init__(self):  # self se utiliza para hacer referencia al cuerpo del objeto, cuando yo pongo self.patas estoy accediendo al atributo patas de mi actual objeto\n",
        "    self.patas: int = 4\n",
        "    self.largo: int = 5\n",
        "    self.ancho: int = 2\n",
        "    self.color: str = 'marron' # Todos estos son atributos de una mesa\n"
      ],
      "metadata": {
        "id": "cAE-Y_iFe9WV"
      },
      "execution_count": null,
      "outputs": []
    },
    {
      "cell_type": "code",
      "source": [
        "# Ahora si tratamos de acceder al atributo miren lo que pasa\n",
        "Mesa.patas"
      ],
      "metadata": {
        "colab": {
          "base_uri": "https://localhost:8080/",
          "height": 159
        },
        "id": "9_rAGw4RfrtL",
        "outputId": "1b4998f3-8f4c-4a39-8c99-16a257ee77cc"
      },
      "execution_count": null,
      "outputs": [
        {
          "output_type": "error",
          "ename": "AttributeError",
          "evalue": "type object 'Mesa' has no attribute 'patas'",
          "traceback": [
            "\u001b[0;31m---------------------------------------------------------------------------\u001b[0m",
            "\u001b[0;31mAttributeError\u001b[0m                            Traceback (most recent call last)",
            "\u001b[0;32m<ipython-input-16-9a2ab74b475b>\u001b[0m in \u001b[0;36m<cell line: 2>\u001b[0;34m()\u001b[0m\n\u001b[1;32m      1\u001b[0m \u001b[0;31m# Ahora si tratamos de acceder al atributo miren lo que pasa\u001b[0m\u001b[0;34m\u001b[0m\u001b[0;34m\u001b[0m\u001b[0m\n\u001b[0;32m----> 2\u001b[0;31m \u001b[0mMesa\u001b[0m\u001b[0;34m.\u001b[0m\u001b[0mpatas\u001b[0m\u001b[0;34m\u001b[0m\u001b[0;34m\u001b[0m\u001b[0m\n\u001b[0m",
            "\u001b[0;31mAttributeError\u001b[0m: type object 'Mesa' has no attribute 'patas'"
          ]
        }
      ]
    },
    {
      "cell_type": "markdown",
      "source": [
        "Esto pasa porque todavía no construimos la mesa, y sólo aparecerá la mesa cuando la construyamos."
      ],
      "metadata": {
        "id": "q_t0VUoofyOD"
      }
    },
    {
      "cell_type": "code",
      "source": [
        "Mesa().patas # el () construye el objeto"
      ],
      "metadata": {
        "colab": {
          "base_uri": "https://localhost:8080/"
        },
        "id": "HJBrlPxQfu0E",
        "outputId": "a98744c6-5a74-4b99-de3a-029e060aa1e8"
      },
      "execution_count": null,
      "outputs": [
        {
          "output_type": "execute_result",
          "data": {
            "text/plain": [
              "4"
            ]
          },
          "metadata": {},
          "execution_count": 17
        }
      ]
    },
    {
      "cell_type": "code",
      "source": [
        "# Y claro, podemos asignar las mesas que queramos a variables\n",
        "mesa_1 = Mesa()\n",
        "mesa_2 = Mesa()\n",
        "mesa_3 = Mesa()"
      ],
      "metadata": {
        "id": "ujbSFMvxf7rK"
      },
      "execution_count": null,
      "outputs": []
    },
    {
      "cell_type": "markdown",
      "source": [
        "Acá creamos tres mesas diferentes, una para cada una de las variables, pero todas las mesas son iguales."
      ],
      "metadata": {
        "id": "6j2EdwYag7kw"
      }
    },
    {
      "cell_type": "markdown",
      "source": [
        "pero que pasa si queremos que diferentes mesas tengan diferentes colores?"
      ],
      "metadata": {
        "id": "3PpWl-J5gzXG"
      }
    },
    {
      "cell_type": "code",
      "source": [
        "class Mesa:\n",
        "  def __init__(self, color: str):\n",
        "    self.patas: int = 4\n",
        "    self.largo: int = 5\n",
        "    self.ancho: int = 2\n",
        "    self.color: str = color # Entonces el color que nosotros le pasemos al constructor siempre irá como self.color\n"
      ],
      "metadata": {
        "id": "nPlRgokahBzP"
      },
      "execution_count": null,
      "outputs": []
    },
    {
      "cell_type": "markdown",
      "source": [
        "Ahora ya puedo hacer mesas de diferentes colores"
      ],
      "metadata": {
        "id": "T-kNwpwwhaMc"
      }
    },
    {
      "cell_type": "code",
      "source": [
        "mesa_1 = Mesa('verde')\n",
        "mesa_2 = Mesa('marron')\n",
        "mesa_3 = Mesa('rojo')"
      ],
      "metadata": {
        "id": "-JezHBathYhX"
      },
      "execution_count": null,
      "outputs": []
    },
    {
      "cell_type": "markdown",
      "source": [
        "Ahora, que pasa si yo quiero cortar una pata de la mesa, y aqui entran los metodos de los que estabamos hablando antes, vamos a definir mas propiedades:\n",
        "- patas\n",
        "- largo de patas\n",
        "- largo\n",
        "- ancho\n",
        "- color\n",
        "\n",
        "Aqui tambien pueden entrar las estructuras de datos."
      ],
      "metadata": {
        "id": "DORs1pN2h8Ky"
      }
    },
    {
      "cell_type": "code",
      "source": [
        "class Mesa:\n",
        "  def __init__(self, largo_de_patas: float, color, largo, ancho):\n",
        "\n",
        "    self.patas: dict = {\n",
        "        1: largo_de_patas,\n",
        "        2: largo_de_patas,\n",
        "        3: largo_de_patas,\n",
        "        4: largo_de_patas\n",
        "    } # aca estoy poniendole a cada una de las 4 patas una longitud\n",
        "\n",
        "    self.color = color\n",
        "\n",
        "    self.largo = largo\n",
        "\n",
        "    self.ancho = ancho\n",
        "\n",
        "  def pintar(self, color):\n",
        "    self.color = color\n",
        "\n",
        "  def lijar(self):\n",
        "    self.color = 'marron'\n",
        "\n",
        "  def cortar_pata(self, pata, longitud): # siempre se utiliza self para asegurar que es un metodo\n",
        "    self.patas[pata] = self.patas[pata] - longitud\n"
      ],
      "metadata": {
        "id": "xxrUs_JuhzTh"
      },
      "execution_count": null,
      "outputs": []
    },
    {
      "cell_type": "code",
      "source": [
        "mesa_1 = Mesa(largo_de_patas=4, color = 'verde', ancho = 3, largo = 3)"
      ],
      "metadata": {
        "id": "7yjEjM1Djpe9"
      },
      "execution_count": null,
      "outputs": []
    },
    {
      "cell_type": "code",
      "source": [
        "# Para acceder a los metodos, tambien utilizando puntos\n",
        "mesa_1.pintar('marron')"
      ],
      "metadata": {
        "id": "YaCkp4zBjxeW"
      },
      "execution_count": null,
      "outputs": []
    },
    {
      "cell_type": "markdown",
      "source": [
        "Y asi es como podemos crear un objeto real en programacion, pero hay cosas raras que pueden pasar:"
      ],
      "metadata": {
        "id": "kzAliJczjO_2"
      }
    },
    {
      "cell_type": "code",
      "source": [
        "mesa_1.cortar_pata(3, 5)"
      ],
      "metadata": {
        "id": "EndzZSfRj4BY"
      },
      "execution_count": null,
      "outputs": []
    },
    {
      "cell_type": "code",
      "source": [
        "mesa_1.patas[3]"
      ],
      "metadata": {
        "colab": {
          "base_uri": "https://localhost:8080/"
        },
        "id": "hEc91iWzkDBR",
        "outputId": "bc441ead-679f-493f-a974-695c7d3cee17"
      },
      "execution_count": null,
      "outputs": [
        {
          "output_type": "execute_result",
          "data": {
            "text/plain": [
              "-1"
            ]
          },
          "metadata": {},
          "execution_count": 25
        }
      ]
    },
    {
      "cell_type": "markdown",
      "source": [
        "Acaso esto tiene sentido? Es ahi que entran los errores, y es muy importante saber cuando parar el codigo para que no pasen cosas raras"
      ],
      "metadata": {
        "id": "mzG4FT_FkHAs"
      }
    },
    {
      "cell_type": "code",
      "source": [
        "class Mesa:\n",
        "  def __init__(self, largo_de_patas: float, color, largo, ancho):\n",
        "\n",
        "    self.patas: dict = {\n",
        "        1: largo_de_patas,\n",
        "        2: largo_de_patas,\n",
        "        3: largo_de_patas,\n",
        "        4: largo_de_patas\n",
        "    } # aca estoy poniendole a cada una de las 4 patas una longitud\n",
        "\n",
        "    self.color = color\n",
        "\n",
        "    self.largo = largo\n",
        "\n",
        "    self.ancho = ancho\n",
        "\n",
        "  def pintar(self, color):\n",
        "    self.color = color\n",
        "\n",
        "  def lijar(self):\n",
        "    self.color = 'marron'\n",
        "\n",
        "  def cortar_pata(self, num_pata, longitud): # siempre se utiliza self para asegurar que es un metodo\n",
        "    if longitud > self.patas[num_pata]:\n",
        "      raise ValueError('no se puede cortar mas de lo que ya hay')\n",
        "    self.patas[num_pata] = self.patas[num_pata] - longitud"
      ],
      "metadata": {
        "id": "K49zQUDAkFVJ"
      },
      "execution_count": null,
      "outputs": []
    },
    {
      "cell_type": "markdown",
      "source": [
        "Otra opcion podria ser:\n",
        "\n",
        "\n",
        "```python\n",
        "def cortar_pata(self, num_pata, longitud): # siempre se utiliza self para asegurar que es un metodo\n",
        "    assert (longitud < self.patas[num_pata]), 'No se puede cortar mas de lo que ya hay'\n",
        "    self.patas[num_pata] = self.patas[num_pata] - longitud\n",
        "```\n",
        "\n"
      ],
      "metadata": {
        "id": "bPolHR5fsotn"
      }
    },
    {
      "cell_type": "markdown",
      "source": [
        "[PROBLEMAS DE PYTHON](https://www.hackerrank.com/domains/python)"
      ],
      "metadata": {
        "id": "r9jaAwonr4iJ"
      }
    }
  ]
}